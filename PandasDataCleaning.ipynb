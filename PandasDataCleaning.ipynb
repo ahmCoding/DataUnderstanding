{
 "cells": [
  {
   "cell_type": "code",
   "execution_count": 1,
   "id": "fe936d8b-f4b6-4303-ae38-dc6dd6c0144a",
   "metadata": {},
   "outputs": [],
   "source": [
    "import pandas as pd"
   ]
  },
  {
   "cell_type": "code",
   "execution_count": 2,
   "id": "46f246a9-91c1-4844-a761-89d4967bcaeb",
   "metadata": {},
   "outputs": [],
   "source": [
    "df=pd.read_excel('./Customer Call List.xlsx')"
   ]
  },
  {
   "cell_type": "code",
   "execution_count": 3,
   "id": "bf4957c8-ef92-4f51-9b1d-926af537695d",
   "metadata": {},
   "outputs": [
    {
     "name": "stdout",
     "output_type": "stream",
     "text": [
      "<class 'pandas.core.frame.DataFrame'>\n",
      "RangeIndex: 21 entries, 0 to 20\n",
      "Data columns (total 8 columns):\n",
      " #   Column             Non-Null Count  Dtype \n",
      "---  ------             --------------  ----- \n",
      " 0   CustomerID         21 non-null     int64 \n",
      " 1   First_Name         21 non-null     object\n",
      " 2   Last_Name          20 non-null     object\n",
      " 3   Phone_Number       19 non-null     object\n",
      " 4   Address            21 non-null     object\n",
      " 5   Paying Customer    21 non-null     object\n",
      " 6   Do_Not_Contact     17 non-null     object\n",
      " 7   Not_Useful_Column  21 non-null     bool  \n",
      "dtypes: bool(1), int64(1), object(6)\n",
      "memory usage: 1.3+ KB\n"
     ]
    }
   ],
   "source": [
    "df.info()"
   ]
  },
  {
   "cell_type": "code",
   "execution_count": 4,
   "id": "9d49ecd4-2f21-40e6-8d31-edfceb03be4d",
   "metadata": {},
   "outputs": [
    {
     "data": {
      "text/html": [
       "<div>\n",
       "<style scoped>\n",
       "    .dataframe tbody tr th:only-of-type {\n",
       "        vertical-align: middle;\n",
       "    }\n",
       "\n",
       "    .dataframe tbody tr th {\n",
       "        vertical-align: top;\n",
       "    }\n",
       "\n",
       "    .dataframe thead th {\n",
       "        text-align: right;\n",
       "    }\n",
       "</style>\n",
       "<table border=\"1\" class=\"dataframe\">\n",
       "  <thead>\n",
       "    <tr style=\"text-align: right;\">\n",
       "      <th></th>\n",
       "      <th>CustomerID</th>\n",
       "      <th>First_Name</th>\n",
       "      <th>Last_Name</th>\n",
       "      <th>Phone_Number</th>\n",
       "      <th>Address</th>\n",
       "      <th>Paying Customer</th>\n",
       "      <th>Do_Not_Contact</th>\n",
       "      <th>Not_Useful_Column</th>\n",
       "    </tr>\n",
       "  </thead>\n",
       "  <tbody>\n",
       "    <tr>\n",
       "      <th>0</th>\n",
       "      <td>1001</td>\n",
       "      <td>Frodo</td>\n",
       "      <td>Baggins</td>\n",
       "      <td>123-545-5421</td>\n",
       "      <td>123 Shire Lane, Shire</td>\n",
       "      <td>Yes</td>\n",
       "      <td>No</td>\n",
       "      <td>True</td>\n",
       "    </tr>\n",
       "    <tr>\n",
       "      <th>1</th>\n",
       "      <td>1002</td>\n",
       "      <td>Abed</td>\n",
       "      <td>Nadir</td>\n",
       "      <td>123/643/9775</td>\n",
       "      <td>93 West Main Street</td>\n",
       "      <td>No</td>\n",
       "      <td>Yes</td>\n",
       "      <td>False</td>\n",
       "    </tr>\n",
       "    <tr>\n",
       "      <th>2</th>\n",
       "      <td>1003</td>\n",
       "      <td>Walter</td>\n",
       "      <td>/White</td>\n",
       "      <td>7066950392</td>\n",
       "      <td>298 Drugs Driveway</td>\n",
       "      <td>N</td>\n",
       "      <td>NaN</td>\n",
       "      <td>True</td>\n",
       "    </tr>\n",
       "    <tr>\n",
       "      <th>3</th>\n",
       "      <td>1004</td>\n",
       "      <td>Dwight</td>\n",
       "      <td>Schrute</td>\n",
       "      <td>123-543-2345</td>\n",
       "      <td>980 Paper Avenue, Pennsylvania, 18503</td>\n",
       "      <td>Yes</td>\n",
       "      <td>Y</td>\n",
       "      <td>True</td>\n",
       "    </tr>\n",
       "    <tr>\n",
       "      <th>4</th>\n",
       "      <td>1005</td>\n",
       "      <td>Jon</td>\n",
       "      <td>Snow</td>\n",
       "      <td>876|678|3469</td>\n",
       "      <td>123 Dragons Road</td>\n",
       "      <td>Y</td>\n",
       "      <td>No</td>\n",
       "      <td>True</td>\n",
       "    </tr>\n",
       "  </tbody>\n",
       "</table>\n",
       "</div>"
      ],
      "text/plain": [
       "   CustomerID First_Name Last_Name  Phone_Number  \\\n",
       "0        1001      Frodo   Baggins  123-545-5421   \n",
       "1        1002       Abed     Nadir  123/643/9775   \n",
       "2        1003     Walter    /White    7066950392   \n",
       "3        1004     Dwight   Schrute  123-543-2345   \n",
       "4        1005        Jon      Snow  876|678|3469   \n",
       "\n",
       "                                 Address Paying Customer Do_Not_Contact  \\\n",
       "0                  123 Shire Lane, Shire             Yes             No   \n",
       "1                    93 West Main Street              No            Yes   \n",
       "2                     298 Drugs Driveway               N            NaN   \n",
       "3  980 Paper Avenue, Pennsylvania, 18503             Yes              Y   \n",
       "4                       123 Dragons Road               Y             No   \n",
       "\n",
       "   Not_Useful_Column  \n",
       "0               True  \n",
       "1              False  \n",
       "2               True  \n",
       "3               True  \n",
       "4               True  "
      ]
     },
     "execution_count": 4,
     "metadata": {},
     "output_type": "execute_result"
    }
   ],
   "source": [
    "df.head()"
   ]
  },
  {
   "cell_type": "markdown",
   "id": "0d06dfd0-8c65-4c40-8897-7535142ebf47",
   "metadata": {},
   "source": [
    "### Delete Duplicate Rows"
   ]
  },
  {
   "cell_type": "code",
   "execution_count": 5,
   "id": "e2a97733-5f08-4751-a6c2-6e285543e18b",
   "metadata": {},
   "outputs": [
    {
     "name": "stdout",
     "output_type": "stream",
     "text": [
      "shape of DF: (21, 8) , Nr of Unique Rows:  20\n"
     ]
    }
   ],
   "source": [
    "print(\"shape of DF:\",df.shape, \", Nr of Unique Rows: \",df['CustomerID'].nunique())"
   ]
  },
  {
   "cell_type": "code",
   "execution_count": 6,
   "id": "7f4f0ef8-3aa6-41f5-8e30-2c3c1cb16e83",
   "metadata": {},
   "outputs": [],
   "source": [
    "# Delete duplicate rows and reset the index\n",
    "df.drop_duplicates(inplace= True)\n",
    "df.reset_index(drop=True, inplace=True)"
   ]
  },
  {
   "cell_type": "code",
   "execution_count": 7,
   "id": "e48fbd69-6f71-4f16-bda7-9c1db0a73e11",
   "metadata": {},
   "outputs": [
    {
     "data": {
      "text/plain": [
       "(20, 8)"
      ]
     },
     "execution_count": 7,
     "metadata": {},
     "output_type": "execute_result"
    }
   ],
   "source": [
    "df.shape"
   ]
  },
  {
   "cell_type": "markdown",
   "id": "18f593f1-ae47-4577-857a-48898f7c0f32",
   "metadata": {},
   "source": [
    "### Formate First and Last_Name columns"
   ]
  },
  {
   "cell_type": "code",
   "execution_count": 9,
   "id": "3c1dd787-8714-478f-abb4-265b631ce221",
   "metadata": {},
   "outputs": [
    {
     "name": "stdout",
     "output_type": "stream",
     "text": [
      "<class 'pandas.core.series.Series'>\n",
      "RangeIndex: 20 entries, 0 to 19\n",
      "Series name: First_Name\n",
      "Non-Null Count  Dtype \n",
      "--------------  ----- \n",
      "20 non-null     object\n",
      "dtypes: object(1)\n",
      "memory usage: 292.0+ bytes\n"
     ]
    },
    {
     "data": {
      "text/plain": [
       "(None,\n",
       " 0        Frodo\n",
       " 1         Abed\n",
       " 2       Walter\n",
       " 3       Dwight\n",
       " 4          Jon\n",
       " 5          Ron\n",
       " 6         Jeff\n",
       " 7     Sherlock\n",
       " 8      Gandalf\n",
       " 9        Peter\n",
       " 10     Samwise\n",
       " 11       Harry\n",
       " 12         Don\n",
       " 13      Leslie\n",
       " 14        Toby\n",
       " 15         Ron\n",
       " 16    Michael \n",
       " 17       Clark\n",
       " 18       Creed\n",
       " 19      Anakin\n",
       " Name: First_Name, dtype: object)"
      ]
     },
     "execution_count": 9,
     "metadata": {},
     "output_type": "execute_result"
    }
   ],
   "source": [
    "df['First_Name'].info(),df['First_Name']"
   ]
  },
  {
   "cell_type": "code",
   "execution_count": 8,
   "id": "d994f311-099c-4713-a38f-5317804af47e",
   "metadata": {},
   "outputs": [
    {
     "name": "stdout",
     "output_type": "stream",
     "text": [
      "<class 'pandas.core.series.Series'>\n",
      "RangeIndex: 20 entries, 0 to 19\n",
      "Series name: Last_Name\n",
      "Non-Null Count  Dtype \n",
      "--------------  ----- \n",
      "19 non-null     object\n",
      "dtypes: object(1)\n",
      "memory usage: 292.0+ bytes\n"
     ]
    },
    {
     "data": {
      "text/plain": [
       "(None,\n",
       " 0         Baggins\n",
       " 1           Nadir\n",
       " 2          /White\n",
       " 3         Schrute\n",
       " 4            Snow\n",
       " 5         Swanson\n",
       " 6          Winger\n",
       " 7          Holmes\n",
       " 8             NaN\n",
       " 9          Parker\n",
       " 10         Gamgee\n",
       " 11      ...Potter\n",
       " 12         Draper\n",
       " 13          Knope\n",
       " 14    Flenderson_\n",
       " 15        Weasley\n",
       " 16          Scott\n",
       " 17           Kent\n",
       " 18         Braton\n",
       " 19      Skywalker\n",
       " Name: Last_Name, dtype: object)"
      ]
     },
     "execution_count": 8,
     "metadata": {},
     "output_type": "execute_result"
    }
   ],
   "source": [
    "df['Last_Name'].info(),df['Last_Name']"
   ]
  },
  {
   "cell_type": "code",
   "execution_count": 10,
   "id": "1e11087d-dd31-4e41-bae5-f0a7fbc322fe",
   "metadata": {},
   "outputs": [
    {
     "data": {
      "text/plain": [
       "0        Baggins\n",
       "1          Nadir\n",
       "2          White\n",
       "3        Schrute\n",
       "4           Snow\n",
       "5        Swanson\n",
       "6         Winger\n",
       "7         Holmes\n",
       "8               \n",
       "9         Parker\n",
       "10        Gamgee\n",
       "11        Potter\n",
       "12        Draper\n",
       "13         Knope\n",
       "14    Flenderson\n",
       "15       Weasley\n",
       "16         Scott\n",
       "17          Kent\n",
       "18        Braton\n",
       "19     Skywalker\n",
       "Name: Last_Name, dtype: object"
      ]
     },
     "execution_count": 10,
     "metadata": {},
     "output_type": "execute_result"
    }
   ],
   "source": [
    "# format Last_Name columns\n",
    "df['Last_Name']=df['Last_Name'].str.strip()\n",
    "df['Last_Name']=df['Last_Name'].str.replace('[^a-zA-Z]','',regex=True) # delete everything out of range a-z\n",
    "df['Last_Name'].fillna('',inplace=True)# replace NaN with empty string\n",
    "df['Last_Name']"
   ]
  },
  {
   "cell_type": "markdown",
   "id": "3630cef9-d1b6-405a-af8c-b4c53bb0c1a5",
   "metadata": {},
   "source": [
    "### Formate Phone_Number Column"
   ]
  },
  {
   "cell_type": "code",
   "execution_count": 11,
   "id": "09136ee0-0530-4665-b242-e5ee538b4163",
   "metadata": {},
   "outputs": [
    {
     "name": "stdout",
     "output_type": "stream",
     "text": [
      "<class 'pandas.core.series.Series'>\n",
      "RangeIndex: 20 entries, 0 to 19\n",
      "Series name: Phone_Number\n",
      "Non-Null Count  Dtype \n",
      "--------------  ----- \n",
      "18 non-null     object\n",
      "dtypes: object(1)\n",
      "memory usage: 292.0+ bytes\n"
     ]
    },
    {
     "data": {
      "text/plain": [
       "(None,\n",
       " 0     123-545-5421\n",
       " 1     123/643/9775\n",
       " 2       7066950392\n",
       " 3     123-543-2345\n",
       " 4     876|678|3469\n",
       " 5     304-762-2467\n",
       " 6              NaN\n",
       " 7     876|678|3469\n",
       " 8              N/a\n",
       " 9     123-545-5421\n",
       " 10             NaN\n",
       " 11      7066950392\n",
       " 12    123-543-2345\n",
       " 13    876|678|3469\n",
       " 14    304-762-2467\n",
       " 15    123-545-5421\n",
       " 16    123/643/9775\n",
       " 17      7066950392\n",
       " 18             N/a\n",
       " 19    876|678|3469\n",
       " Name: Phone_Number, dtype: object)"
      ]
     },
     "execution_count": 11,
     "metadata": {},
     "output_type": "execute_result"
    }
   ],
   "source": [
    "df['Phone_Number'].info(),df['Phone_Number']"
   ]
  },
  {
   "cell_type": "code",
   "execution_count": 12,
   "id": "5c25aea6-7597-43fb-88ee-448c5c915599",
   "metadata": {},
   "outputs": [
    {
     "data": {
      "text/plain": [
       "0     123-545-5421\n",
       "1     123/643/9775\n",
       "2       7066950392\n",
       "3     123-543-2345\n",
       "4     876|678|3469\n",
       "5     304-762-2467\n",
       "6                 \n",
       "7     876|678|3469\n",
       "8                 \n",
       "9     123-545-5421\n",
       "10                \n",
       "11      7066950392\n",
       "12    123-543-2345\n",
       "13    876|678|3469\n",
       "14    304-762-2467\n",
       "15    123-545-5421\n",
       "16    123/643/9775\n",
       "17      7066950392\n",
       "18                \n",
       "19    876|678|3469\n",
       "Name: Phone_Number, dtype: object"
      ]
     },
     "execution_count": 12,
     "metadata": {},
     "output_type": "execute_result"
    }
   ],
   "source": [
    "# format and standardization of Phone_Number\n",
    "df['Phone_Number']=df['Phone_Number'].fillna('') # replace NaN to empty feld\n",
    "df['Phone_Number']=df['Phone_Number'].replace('N/a','') # replace N/a to empt feld\n",
    "df['Phone_Number']"
   ]
  },
  {
   "cell_type": "code",
   "execution_count": 13,
   "id": "16163190-838c-43d3-90fb-2916f86965a2",
   "metadata": {},
   "outputs": [],
   "source": [
    "# standardizatopn of Phone_Number in  ###-###-#### format\n",
    "df['Phone_Number']=df['Phone_Number'].replace('[^0-9]','',regex=True).astype(str) # only numbers and save as string\n",
    "df['Phone_Number']=df['Phone_Number'].apply(lambda nr: nr[0:3] + '-' + nr[3:6]+ '-' + nr[6:] if len(nr)>3  else '')"
   ]
  },
  {
   "cell_type": "code",
   "execution_count": null,
   "id": "102cf5c2-a905-4e88-9df2-07097307c1dd",
   "metadata": {},
   "outputs": [],
   "source": [
    "df['Phone_Number']"
   ]
  },
  {
   "cell_type": "markdown",
   "id": "fbda5ce4-abe3-4c50-b983-0c38581fc155",
   "metadata": {},
   "source": [
    "### Address Column"
   ]
  },
  {
   "cell_type": "code",
   "execution_count": null,
   "id": "81d26a5f-4413-4722-89d7-87e4eeb8e92b",
   "metadata": {},
   "outputs": [],
   "source": [
    "df['Address'].info(),df['Address']"
   ]
  },
  {
   "cell_type": "markdown",
   "id": "dd5d0d02-8821-41ca-bde4-e4c580335a85",
   "metadata": {},
   "source": [
    "### golas:\n",
    "- convert to string\n",
    "- splite the string and create more usefull columns like address, city and state\n",
    "- standardization of formating\n",
    "  "
   ]
  },
  {
   "cell_type": "code",
   "execution_count": null,
   "id": "d6a1653e-953e-44bf-b1bf-9128bc782610",
   "metadata": {},
   "outputs": [],
   "source": [
    "df['Address']=df['Address'].astype(str) # convert to string\n",
    "df['Address']=df['Address'].str.replace('N/a','') # replace N/a fields with empty string \n",
    "df[['Address_new','City_new','Zipcode_new']]=df['Address'].str.split(',',expand=True) # create new columns from Address\n"
   ]
  },
  {
   "cell_type": "markdown",
   "id": "86cd486e-3e7b-4580-811a-775252312de6",
   "metadata": {},
   "source": [
    "### Paying Customer column\n"
   ]
  },
  {
   "cell_type": "code",
   "execution_count": null,
   "id": "eb37c0a8-3222-4121-9918-bfdd6fa145ba",
   "metadata": {},
   "outputs": [],
   "source": [
    "#Paying Customer column\n",
    "df['Paying Customer'],df['Paying Customer'].info()"
   ]
  },
  {
   "cell_type": "markdown",
   "id": "c9d9f695-fc64-4685-b9a9-8c41abceedf5",
   "metadata": {},
   "source": [
    "### gloas: \n",
    "- delete N/a values\n",
    "- standardization of values (convert to string and fill with yes and no)"
   ]
  },
  {
   "cell_type": "code",
   "execution_count": null,
   "id": "ff669d75-3ab2-470f-8dec-7dc40135805f",
   "metadata": {},
   "outputs": [],
   "source": [
    "df['Paying Customer']=df['Paying Customer'].str.replace('N/a','') # replace N/a \n",
    "# replace N with No and Y with Yes\n",
    "df['Paying Customer']=df['Paying Customer'].apply(lambda answer:'No' if len(answer)== 1 and answer=='N' else answer )\n",
    "df['Paying Customer']=df['Paying Customer'].apply(lambda answer:'Yes' if len(answer)== 1 and answer=='Y' else answer )\n",
    "df['Paying Customer']"
   ]
  },
  {
   "cell_type": "markdown",
   "id": "1d5bb094-700f-4074-a374-1b33228bdb3b",
   "metadata": {},
   "source": [
    "#### Do_Not_Contact Column\n",
    "Applying same things for Do_Not_Contact column"
   ]
  },
  {
   "cell_type": "code",
   "execution_count": null,
   "id": "746fa005-f96d-4bda-92f0-42c53364a06c",
   "metadata": {},
   "outputs": [],
   "source": [
    "df['Do_Not_Contact'].info(),df['Do_Not_Contact']"
   ]
  },
  {
   "cell_type": "code",
   "execution_count": null,
   "id": "553ae8c0-fe5e-4e36-abc4-e7763265b8a4",
   "metadata": {},
   "outputs": [],
   "source": [
    "df['Do_Not_Contact']=df['Do_Not_Contact'].fillna('').astype(str) # fill NaN with empty string and convert column to string\n",
    "# replace N with No and Y with Yes\n",
    "df['Do_Not_Contact']=df['Do_Not_Contact'].apply(lambda answer:'No' if len(answer)== 1 and answer=='N' else answer )\n",
    "df['Do_Not_Contact']=df['Do_Not_Contact'].apply(lambda answer:'Yes' if len(answer)== 1 and answer=='Y' else answer )\n",
    "df['Do_Not_Contact']"
   ]
  },
  {
   "cell_type": "code",
   "execution_count": null,
   "id": "5ecc3c3d-f068-4dd5-8397-8249f12de256",
   "metadata": {},
   "outputs": [],
   "source": [
    "df.head(2)"
   ]
  },
  {
   "cell_type": "markdown",
   "id": "9b0a7c18-1fba-4565-bc63-9f53acddb0f8",
   "metadata": {},
   "source": [
    "### Drop not usefull columns 'Address' and 'Not_Useful_Column' and save cleaned Data"
   ]
  },
  {
   "cell_type": "code",
   "execution_count": null,
   "id": "e3d42c95-1a9c-499d-af55-b92619dbc604",
   "metadata": {},
   "outputs": [],
   "source": [
    "# Drop not usefull columns 'Address' and 'Not_Useful_Column'\n",
    "df.drop(['Address','Not_Useful_Column'],axis=1,inplace=True)\n",
    "df.to_csv('./CustomerCallList_Cleaned.csv')"
   ]
  }
 ],
 "metadata": {
  "kernelspec": {
   "display_name": "Python 3 (ipykernel)",
   "language": "python",
   "name": "python3"
  },
  "language_info": {
   "codemirror_mode": {
    "name": "ipython",
    "version": 3
   },
   "file_extension": ".py",
   "mimetype": "text/x-python",
   "name": "python",
   "nbconvert_exporter": "python",
   "pygments_lexer": "ipython3",
   "version": "3.11.7"
  }
 },
 "nbformat": 4,
 "nbformat_minor": 5
}
