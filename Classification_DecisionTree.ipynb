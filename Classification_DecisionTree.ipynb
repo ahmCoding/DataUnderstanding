{
 "cells": [
  {
   "cell_type": "markdown",
   "id": "d813584f-3791-46fa-b1fc-0e1ecece8e7f",
   "metadata": {},
   "source": [
    "# Decision Trees for Classification"
   ]
  },
  {
   "cell_type": "markdown",
   "id": "9d83bdb8-868c-4cf7-b0af-ddcd1f289390",
   "metadata": {},
   "source": [
    "## The goal of this notebook is:\n",
    "- exploring and preprocessing a dataset with many columns and imbalanced classes!\n",
    "- why we need to drop columns with many nulls\n",
    "- how to target encode categorical features with more 2 classes!\n",
    "- create a baseline pipline\n",
    "- exhaustive grid search for hyperparameter tuning"
   ]
  },
  {
   "cell_type": "code",
   "execution_count": 1,
   "id": "a42323ad-2399-4e49-92f8-198f3ac1161d",
   "metadata": {},
   "outputs": [],
   "source": [
    "import pandas as pd\n",
    "import seaborn as sns\n",
    "import numpy as np\n",
    "%matplotlib inline\n",
    "import warnings\n",
    "warnings.filterwarnings('ignore')\n",
    "from matplotlib.pyplot import figure\n",
    "import matplotlib.pyplot as plt"
   ]
  },
  {
   "cell_type": "code",
   "execution_count": 2,
   "id": "c6ab2eef-e9b2-4bbf-a9a6-8ef88d35fb74",
   "metadata": {},
   "outputs": [],
   "source": [
    "#load the dataset \n",
    "df = pd.read_csv(\"./dev/input/License_Data.csv\")"
   ]
  },
  {
   "cell_type": "code",
   "execution_count": 3,
   "id": "0d11f472-7ea0-4ebd-88bb-374482eb77b7",
   "metadata": {},
   "outputs": [
    {
     "name": "stdout",
     "output_type": "stream",
     "text": [
      "<class 'pandas.core.frame.DataFrame'>\n",
      "RangeIndex: 85895 entries, 0 to 85894\n",
      "Data columns (total 32 columns):\n",
      " #   Column                             Non-Null Count  Dtype  \n",
      "---  ------                             --------------  -----  \n",
      " 0   ID                                 85895 non-null  object \n",
      " 1   LICENSE ID                         85895 non-null  int64  \n",
      " 2   ACCOUNT NUMBER                     85895 non-null  int64  \n",
      " 3   SITE NUMBER                        85895 non-null  int64  \n",
      " 4   LEGAL NAME                         85895 non-null  object \n",
      " 5   DOING BUSINESS AS NAME             85894 non-null  object \n",
      " 6   ADDRESS                            85895 non-null  object \n",
      " 7   CITY                               85895 non-null  object \n",
      " 8   STATE                              85895 non-null  object \n",
      " 9   ZIP CODE                           85864 non-null  object \n",
      " 10  WARD                               36194 non-null  float64\n",
      " 11  PRECINCT                           29194 non-null  float64\n",
      " 12  WARD PRECINCT                      36195 non-null  object \n",
      " 13  POLICE DISTRICT                    31883 non-null  float64\n",
      " 14  LICENSE CODE                       85895 non-null  int64  \n",
      " 15  LICENSE DESCRIPTION                85895 non-null  object \n",
      " 16  LICENSE NUMBER                     85894 non-null  float64\n",
      " 17  APPLICATION TYPE                   85895 non-null  object \n",
      " 18  APPLICATION CREATED DATE           21235 non-null  object \n",
      " 19  APPLICATION REQUIREMENTS COMPLETE  85681 non-null  object \n",
      " 20  PAYMENT DATE                       84606 non-null  object \n",
      " 21  CONDITIONAL APPROVAL               85895 non-null  object \n",
      " 22  LICENSE TERM START DATE            85667 non-null  object \n",
      " 23  LICENSE TERM EXPIRATION DATE       85877 non-null  object \n",
      " 24  LICENSE APPROVED FOR ISSUANCE      79106 non-null  object \n",
      " 25  DATE ISSUED                        85895 non-null  object \n",
      " 26  LICENSE STATUS CHANGE DATE         30495 non-null  object \n",
      " 27  SSA                                9449 non-null   float64\n",
      " 28  LATITUDE                           38649 non-null  float64\n",
      " 29  LONGITUDE                          38649 non-null  float64\n",
      " 30  LOCATION                           38649 non-null  object \n",
      " 31  LICENSE STATUS                     85895 non-null  object \n",
      "dtypes: float64(7), int64(4), object(21)\n",
      "memory usage: 21.0+ MB\n"
     ]
    }
   ],
   "source": [
    "df.info()"
   ]
  },
  {
   "cell_type": "code",
   "execution_count": 4,
   "id": "4e316594-619e-444d-a194-ea9e66fc3a6d",
   "metadata": {},
   "outputs": [
    {
     "data": {
      "text/html": [
       "<div>\n",
       "<style scoped>\n",
       "    .dataframe tbody tr th:only-of-type {\n",
       "        vertical-align: middle;\n",
       "    }\n",
       "\n",
       "    .dataframe tbody tr th {\n",
       "        vertical-align: top;\n",
       "    }\n",
       "\n",
       "    .dataframe thead th {\n",
       "        text-align: right;\n",
       "    }\n",
       "</style>\n",
       "<table border=\"1\" class=\"dataframe\">\n",
       "  <thead>\n",
       "    <tr style=\"text-align: right;\">\n",
       "      <th></th>\n",
       "      <th>0</th>\n",
       "      <th>1</th>\n",
       "      <th>2</th>\n",
       "    </tr>\n",
       "  </thead>\n",
       "  <tbody>\n",
       "    <tr>\n",
       "      <th>ID</th>\n",
       "      <td>35342-20020816</td>\n",
       "      <td>1358463-20051116</td>\n",
       "      <td>1980233-20090722</td>\n",
       "    </tr>\n",
       "    <tr>\n",
       "      <th>LICENSE ID</th>\n",
       "      <td>1256593</td>\n",
       "      <td>1639294</td>\n",
       "      <td>1980233</td>\n",
       "    </tr>\n",
       "    <tr>\n",
       "      <th>ACCOUNT NUMBER</th>\n",
       "      <td>32811</td>\n",
       "      <td>262311</td>\n",
       "      <td>345008</td>\n",
       "    </tr>\n",
       "    <tr>\n",
       "      <th>SITE NUMBER</th>\n",
       "      <td>1</td>\n",
       "      <td>29</td>\n",
       "      <td>1</td>\n",
       "    </tr>\n",
       "    <tr>\n",
       "      <th>LEGAL NAME</th>\n",
       "      <td>CARMEN CAHUE</td>\n",
       "      <td>ISLA TROPICAL, INC.</td>\n",
       "      <td>DJS REMODELING</td>\n",
       "    </tr>\n",
       "    <tr>\n",
       "      <th>DOING BUSINESS AS NAME</th>\n",
       "      <td>CLAUDIA'S BRIDAL SHOP</td>\n",
       "      <td>ISLA TROPICAL</td>\n",
       "      <td>DJS REMODELING, INC.</td>\n",
       "    </tr>\n",
       "    <tr>\n",
       "      <th>ADDRESS</th>\n",
       "      <td>2625 S CENTRAL PARK AVE  1</td>\n",
       "      <td>2825 W MONTROSE AVE</td>\n",
       "      <td>1605  CLAVEY RD 1</td>\n",
       "    </tr>\n",
       "    <tr>\n",
       "      <th>CITY</th>\n",
       "      <td>CHICAGO</td>\n",
       "      <td>CHICAGO</td>\n",
       "      <td>HIGHLAND</td>\n",
       "    </tr>\n",
       "    <tr>\n",
       "      <th>STATE</th>\n",
       "      <td>IL</td>\n",
       "      <td>IL</td>\n",
       "      <td>IL</td>\n",
       "    </tr>\n",
       "    <tr>\n",
       "      <th>ZIP CODE</th>\n",
       "      <td>60623.0</td>\n",
       "      <td>60618</td>\n",
       "      <td>60035</td>\n",
       "    </tr>\n",
       "    <tr>\n",
       "      <th>WARD</th>\n",
       "      <td>22.0</td>\n",
       "      <td>33.0</td>\n",
       "      <td>NaN</td>\n",
       "    </tr>\n",
       "    <tr>\n",
       "      <th>PRECINCT</th>\n",
       "      <td>28.0</td>\n",
       "      <td>23.0</td>\n",
       "      <td>NaN</td>\n",
       "    </tr>\n",
       "    <tr>\n",
       "      <th>WARD PRECINCT</th>\n",
       "      <td>22-28</td>\n",
       "      <td>33-23</td>\n",
       "      <td>NaN</td>\n",
       "    </tr>\n",
       "    <tr>\n",
       "      <th>POLICE DISTRICT</th>\n",
       "      <td>10.0</td>\n",
       "      <td>17.0</td>\n",
       "      <td>NaN</td>\n",
       "    </tr>\n",
       "    <tr>\n",
       "      <th>LICENSE CODE</th>\n",
       "      <td>1010</td>\n",
       "      <td>1315</td>\n",
       "      <td>1011</td>\n",
       "    </tr>\n",
       "    <tr>\n",
       "      <th>LICENSE DESCRIPTION</th>\n",
       "      <td>Limited Business License</td>\n",
       "      <td>Mobile Food Dispenser</td>\n",
       "      <td>Home Repair</td>\n",
       "    </tr>\n",
       "    <tr>\n",
       "      <th>LICENSE NUMBER</th>\n",
       "      <td>35342.0</td>\n",
       "      <td>1358463.0</td>\n",
       "      <td>1980233.0</td>\n",
       "    </tr>\n",
       "    <tr>\n",
       "      <th>APPLICATION TYPE</th>\n",
       "      <td>RENEW</td>\n",
       "      <td>RENEW</td>\n",
       "      <td>ISSUE</td>\n",
       "    </tr>\n",
       "    <tr>\n",
       "      <th>APPLICATION CREATED DATE</th>\n",
       "      <td>NaN</td>\n",
       "      <td>NaN</td>\n",
       "      <td>2009-06-29T00:00:00</td>\n",
       "    </tr>\n",
       "    <tr>\n",
       "      <th>APPLICATION REQUIREMENTS COMPLETE</th>\n",
       "      <td>2002-06-28T00:00:00</td>\n",
       "      <td>2005-09-22T00:00:00</td>\n",
       "      <td>2009-07-22T00:00:00</td>\n",
       "    </tr>\n",
       "    <tr>\n",
       "      <th>PAYMENT DATE</th>\n",
       "      <td>2002-08-21T00:00:00</td>\n",
       "      <td>2005-11-03T00:00:00</td>\n",
       "      <td>2009-07-22T00:00:00</td>\n",
       "    </tr>\n",
       "    <tr>\n",
       "      <th>CONDITIONAL APPROVAL</th>\n",
       "      <td>N</td>\n",
       "      <td>N</td>\n",
       "      <td>N</td>\n",
       "    </tr>\n",
       "    <tr>\n",
       "      <th>LICENSE TERM START DATE</th>\n",
       "      <td>2002-08-16T00:00:00</td>\n",
       "      <td>2005-11-16T00:00:00</td>\n",
       "      <td>2009-07-22T00:00:00</td>\n",
       "    </tr>\n",
       "    <tr>\n",
       "      <th>LICENSE TERM EXPIRATION DATE</th>\n",
       "      <td>2003-08-15T00:00:00</td>\n",
       "      <td>2006-11-15T00:00:00</td>\n",
       "      <td>2011-07-15T00:00:00</td>\n",
       "    </tr>\n",
       "    <tr>\n",
       "      <th>LICENSE APPROVED FOR ISSUANCE</th>\n",
       "      <td>2002-08-21T00:00:00</td>\n",
       "      <td>2006-04-05T00:00:00</td>\n",
       "      <td>2009-07-22T00:00:00</td>\n",
       "    </tr>\n",
       "    <tr>\n",
       "      <th>DATE ISSUED</th>\n",
       "      <td>2006-04-11T00:00:00</td>\n",
       "      <td>2006-06-12T00:00:00</td>\n",
       "      <td>2009-07-22T00:00:00</td>\n",
       "    </tr>\n",
       "    <tr>\n",
       "      <th>LICENSE STATUS CHANGE DATE</th>\n",
       "      <td>NaN</td>\n",
       "      <td>2006-06-15T00:00:00</td>\n",
       "      <td>NaN</td>\n",
       "    </tr>\n",
       "    <tr>\n",
       "      <th>SSA</th>\n",
       "      <td>25.0</td>\n",
       "      <td>60.0</td>\n",
       "      <td>NaN</td>\n",
       "    </tr>\n",
       "    <tr>\n",
       "      <th>LATITUDE</th>\n",
       "      <td>41.843613</td>\n",
       "      <td>41.961132</td>\n",
       "      <td>NaN</td>\n",
       "    </tr>\n",
       "    <tr>\n",
       "      <th>LONGITUDE</th>\n",
       "      <td>-87.714618</td>\n",
       "      <td>-87.699626</td>\n",
       "      <td>NaN</td>\n",
       "    </tr>\n",
       "    <tr>\n",
       "      <th>LOCATION</th>\n",
       "      <td>{'latitude': '41.843612879431845', 'longitude'...</td>\n",
       "      <td>{'latitude': '41.96113244107215', 'longitude':...</td>\n",
       "      <td>NaN</td>\n",
       "    </tr>\n",
       "    <tr>\n",
       "      <th>LICENSE STATUS</th>\n",
       "      <td>AAI</td>\n",
       "      <td>AAC</td>\n",
       "      <td>AAI</td>\n",
       "    </tr>\n",
       "  </tbody>\n",
       "</table>\n",
       "</div>"
      ],
      "text/plain": [
       "                                                                                   0  \\\n",
       "ID                                                                    35342-20020816   \n",
       "LICENSE ID                                                                   1256593   \n",
       "ACCOUNT NUMBER                                                                 32811   \n",
       "SITE NUMBER                                                                        1   \n",
       "LEGAL NAME                                                              CARMEN CAHUE   \n",
       "DOING BUSINESS AS NAME                                         CLAUDIA'S BRIDAL SHOP   \n",
       "ADDRESS                                                   2625 S CENTRAL PARK AVE  1   \n",
       "CITY                                                                         CHICAGO   \n",
       "STATE                                                                             IL   \n",
       "ZIP CODE                                                                     60623.0   \n",
       "WARD                                                                            22.0   \n",
       "PRECINCT                                                                        28.0   \n",
       "WARD PRECINCT                                                                  22-28   \n",
       "POLICE DISTRICT                                                                 10.0   \n",
       "LICENSE CODE                                                                    1010   \n",
       "LICENSE DESCRIPTION                                         Limited Business License   \n",
       "LICENSE NUMBER                                                               35342.0   \n",
       "APPLICATION TYPE                                                               RENEW   \n",
       "APPLICATION CREATED DATE                                                         NaN   \n",
       "APPLICATION REQUIREMENTS COMPLETE                                2002-06-28T00:00:00   \n",
       "PAYMENT DATE                                                     2002-08-21T00:00:00   \n",
       "CONDITIONAL APPROVAL                                                               N   \n",
       "LICENSE TERM START DATE                                          2002-08-16T00:00:00   \n",
       "LICENSE TERM EXPIRATION DATE                                     2003-08-15T00:00:00   \n",
       "LICENSE APPROVED FOR ISSUANCE                                    2002-08-21T00:00:00   \n",
       "DATE ISSUED                                                      2006-04-11T00:00:00   \n",
       "LICENSE STATUS CHANGE DATE                                                       NaN   \n",
       "SSA                                                                             25.0   \n",
       "LATITUDE                                                                   41.843613   \n",
       "LONGITUDE                                                                 -87.714618   \n",
       "LOCATION                           {'latitude': '41.843612879431845', 'longitude'...   \n",
       "LICENSE STATUS                                                                   AAI   \n",
       "\n",
       "                                                                                   1  \\\n",
       "ID                                                                  1358463-20051116   \n",
       "LICENSE ID                                                                   1639294   \n",
       "ACCOUNT NUMBER                                                                262311   \n",
       "SITE NUMBER                                                                       29   \n",
       "LEGAL NAME                                                       ISLA TROPICAL, INC.   \n",
       "DOING BUSINESS AS NAME                                                 ISLA TROPICAL   \n",
       "ADDRESS                                                          2825 W MONTROSE AVE   \n",
       "CITY                                                                         CHICAGO   \n",
       "STATE                                                                             IL   \n",
       "ZIP CODE                                                                       60618   \n",
       "WARD                                                                            33.0   \n",
       "PRECINCT                                                                        23.0   \n",
       "WARD PRECINCT                                                                  33-23   \n",
       "POLICE DISTRICT                                                                 17.0   \n",
       "LICENSE CODE                                                                    1315   \n",
       "LICENSE DESCRIPTION                                            Mobile Food Dispenser   \n",
       "LICENSE NUMBER                                                             1358463.0   \n",
       "APPLICATION TYPE                                                               RENEW   \n",
       "APPLICATION CREATED DATE                                                         NaN   \n",
       "APPLICATION REQUIREMENTS COMPLETE                                2005-09-22T00:00:00   \n",
       "PAYMENT DATE                                                     2005-11-03T00:00:00   \n",
       "CONDITIONAL APPROVAL                                                               N   \n",
       "LICENSE TERM START DATE                                          2005-11-16T00:00:00   \n",
       "LICENSE TERM EXPIRATION DATE                                     2006-11-15T00:00:00   \n",
       "LICENSE APPROVED FOR ISSUANCE                                    2006-04-05T00:00:00   \n",
       "DATE ISSUED                                                      2006-06-12T00:00:00   \n",
       "LICENSE STATUS CHANGE DATE                                       2006-06-15T00:00:00   \n",
       "SSA                                                                             60.0   \n",
       "LATITUDE                                                                   41.961132   \n",
       "LONGITUDE                                                                 -87.699626   \n",
       "LOCATION                           {'latitude': '41.96113244107215', 'longitude':...   \n",
       "LICENSE STATUS                                                                   AAC   \n",
       "\n",
       "                                                      2  \n",
       "ID                                     1980233-20090722  \n",
       "LICENSE ID                                      1980233  \n",
       "ACCOUNT NUMBER                                   345008  \n",
       "SITE NUMBER                                           1  \n",
       "LEGAL NAME                               DJS REMODELING  \n",
       "DOING BUSINESS AS NAME             DJS REMODELING, INC.  \n",
       "ADDRESS                               1605  CLAVEY RD 1  \n",
       "CITY                                           HIGHLAND  \n",
       "STATE                                                IL  \n",
       "ZIP CODE                                          60035  \n",
       "WARD                                                NaN  \n",
       "PRECINCT                                            NaN  \n",
       "WARD PRECINCT                                       NaN  \n",
       "POLICE DISTRICT                                     NaN  \n",
       "LICENSE CODE                                       1011  \n",
       "LICENSE DESCRIPTION                         Home Repair  \n",
       "LICENSE NUMBER                                1980233.0  \n",
       "APPLICATION TYPE                                  ISSUE  \n",
       "APPLICATION CREATED DATE            2009-06-29T00:00:00  \n",
       "APPLICATION REQUIREMENTS COMPLETE   2009-07-22T00:00:00  \n",
       "PAYMENT DATE                        2009-07-22T00:00:00  \n",
       "CONDITIONAL APPROVAL                                  N  \n",
       "LICENSE TERM START DATE             2009-07-22T00:00:00  \n",
       "LICENSE TERM EXPIRATION DATE        2011-07-15T00:00:00  \n",
       "LICENSE APPROVED FOR ISSUANCE       2009-07-22T00:00:00  \n",
       "DATE ISSUED                         2009-07-22T00:00:00  \n",
       "LICENSE STATUS CHANGE DATE                          NaN  \n",
       "SSA                                                 NaN  \n",
       "LATITUDE                                            NaN  \n",
       "LONGITUDE                                           NaN  \n",
       "LOCATION                                            NaN  \n",
       "LICENSE STATUS                                      AAI  "
      ]
     },
     "execution_count": 4,
     "metadata": {},
     "output_type": "execute_result"
    }
   ],
   "source": [
    "df.head(3).T"
   ]
  },
  {
   "cell_type": "markdown",
   "id": "515cefc2-9d3e-4dbc-9cbb-8c27cdafc744",
   "metadata": {},
   "source": [
    "## Data Exploration"
   ]
  },
  {
   "cell_type": "markdown",
   "id": "ce20f502-d1df-4627-9070-cb8e4c35bf41",
   "metadata": {},
   "source": [
    "### Categorical"
   ]
  },
  {
   "cell_type": "code",
   "execution_count": 5,
   "id": "f5f1be52-99cb-4200-a48d-9fd0c910d5b4",
   "metadata": {},
   "outputs": [],
   "source": [
    "# changing the name of Columns for convenience \n",
    "new_names=[col_name.replace(\" \",\"_\").lower() for col_name in df.columns ]\n",
    "df.columns=new_names"
   ]
  },
  {
   "cell_type": "code",
   "execution_count": 6,
   "id": "26be21a6-68f6-400f-9453-6a4814ba1e3a",
   "metadata": {},
   "outputs": [
    {
     "data": {
      "text/plain": [
       "<Axes: xlabel='license_status'>"
      ]
     },
     "execution_count": 6,
     "metadata": {},
     "output_type": "execute_result"
    },
    {
     "data": {
      "image/png": "[encoded data removed]",
      "text/plain": [
       "<Figure size 640x480 with 1 Axes>"
      ]
     },
     "metadata": {},
     "output_type": "display_data"
    }
   ],
   "source": [
    "df.license_status.value_counts(normalize=True).plot.bar()"
   ]
  },
  {
   "cell_type": "markdown",
   "id": "11040704-deba-4c90-b713-ce343758961f",
   "metadata": {},
   "source": [
    "\n",
    "## \"license_status\" is the dependet variable and we have a severe class imbalance between classes!\n",
    "- __A dummy model__ without training could have about 65% accuracy, if it only predict for all inputs \"AAI\"-Label! "
   ]
  },
  {
   "cell_type": "code",
   "execution_count": 7,
   "id": "1d2e73c7-0f79-4da7-ac82-9d872346c688",
   "metadata": {
    "scrolled": true
   },
   "outputs": [],
   "source": [
    "# column zip_code is numerical, but somehow recognized as object , so convert it back \n",
    "zip_numeric=pd.to_numeric(df.zip_code,errors='coerce')\n",
    "index_to_drop=df[zip_numeric.isnull()].index\n",
    "df.zip_code=zip_numeric #set the numeric values\n",
    "df.drop(index_to_drop,inplace=True) # drop rows with null value"
   ]
  },
  {
   "cell_type": "code",
   "execution_count": 8,
   "id": "c01a8a6d-9b28-4828-ba22-af1d5fe8821a",
   "metadata": {},
   "outputs": [
    {
     "name": "stdout",
     "output_type": "stream",
     "text": [
      "nr of categorical: 19 and nummerical: 12 variables\n"
     ]
    }
   ],
   "source": [
    "# selecting categorical and numerical features\n",
    "target=['license_status']\n",
    "features= [col_name for col_name in df.columns if col_name not in target]\n",
    "#features\n",
    "numerical_ix = df[features].select_dtypes(include=['int64', 'float64']).columns\n",
    "categorical_ix = df[features].select_dtypes(include=['object', 'bool']).columns\n",
    "print(f'nr of categorical: {len(categorical_ix)} and nummerical: {len(numerical_ix)} variables')"
   ]
  },
  {
   "cell_type": "code",
   "execution_count": 9,
   "id": "32404793-7542-4b5b-a47f-d06636bb85fd",
   "metadata": {},
   "outputs": [],
   "source": [
    "# Exploring categorical values\n",
    "cat_df=pd.DataFrame(columns=['var_name','nr of null rows','nr of unique values','population of values'])\n",
    "for i in range(len(categorical_ix)):\n",
    "    nr_null=df[categorical_ix[i]].isnull().sum()\n",
    "    nr_unique_v=df[categorical_ix[i]].nunique()\n",
    "    count_unique_v=df[categorical_ix[i]].value_counts(normalize=True).round(3).to_list()\n",
    "    cat_df.loc[i]=[categorical_ix[i]] + [nr_null] + [nr_unique_v] + [count_unique_v]\n",
    "    #print(count_unique_v if nr_unique_v < 5 else '')"
   ]
  },
  {
   "cell_type": "code",
   "execution_count": 10,
   "id": "65935579-42ad-4211-aae3-f1a218a804fe",
   "metadata": {},
   "outputs": [
    {
     "data": {
      "text/html": [
       "<div>\n",
       "<style scoped>\n",
       "    .dataframe tbody tr th:only-of-type {\n",
       "        vertical-align: middle;\n",
       "    }\n",
       "\n",
       "    .dataframe tbody tr th {\n",
       "        vertical-align: top;\n",
       "    }\n",
       "\n",
       "    .dataframe thead th {\n",
       "        text-align: right;\n",
       "    }\n",
       "</style>\n",
       "<table border=\"1\" class=\"dataframe\">\n",
       "  <thead>\n",
       "    <tr style=\"text-align: right;\">\n",
       "      <th></th>\n",
       "      <th>var_name</th>\n",
       "      <th>nr of null rows</th>\n",
       "      <th>nr of unique values</th>\n",
       "      <th>population of values</th>\n",
       "    </tr>\n",
       "  </thead>\n",
       "  <tbody>\n",
       "    <tr>\n",
       "      <th>0</th>\n",
       "      <td>id</td>\n",
       "      <td>0</td>\n",
       "      <td>85842</td>\n",
       "      <td>[0.0, 0.0, 0.0, 0.0, 0.0, 0.0, 0.0, 0.0, 0.0, ...</td>\n",
       "    </tr>\n",
       "    <tr>\n",
       "      <th>1</th>\n",
       "      <td>legal_name</td>\n",
       "      <td>0</td>\n",
       "      <td>38725</td>\n",
       "      <td>[0.008, 0.002, 0.001, 0.001, 0.001, 0.001, 0.0...</td>\n",
       "    </tr>\n",
       "    <tr>\n",
       "      <th>2</th>\n",
       "      <td>doing_business_as_name</td>\n",
       "      <td>1</td>\n",
       "      <td>41665</td>\n",
       "      <td>[0.007, 0.001, 0.001, 0.001, 0.001, 0.001, 0.0...</td>\n",
       "    </tr>\n",
       "    <tr>\n",
       "      <th>3</th>\n",
       "      <td>address</td>\n",
       "      <td>0</td>\n",
       "      <td>42120</td>\n",
       "      <td>[0.006, 0.002, 0.001, 0.001, 0.001, 0.001, 0.0...</td>\n",
       "    </tr>\n",
       "    <tr>\n",
       "      <th>4</th>\n",
       "      <td>city</td>\n",
       "      <td>0</td>\n",
       "      <td>1217</td>\n",
       "      <td>[0.428, 0.015, 0.014, 0.012, 0.009, 0.009, 0.0...</td>\n",
       "    </tr>\n",
       "    <tr>\n",
       "      <th>5</th>\n",
       "      <td>state</td>\n",
       "      <td>0</td>\n",
       "      <td>52</td>\n",
       "      <td>[0.938, 0.02, 0.006, 0.004, 0.004, 0.003, 0.00...</td>\n",
       "    </tr>\n",
       "    <tr>\n",
       "      <th>6</th>\n",
       "      <td>ward_precinct</td>\n",
       "      <td>49667</td>\n",
       "      <td>2383</td>\n",
       "      <td>[0.04, 0.031, 0.023, 0.013, 0.013, 0.008, 0.00...</td>\n",
       "    </tr>\n",
       "    <tr>\n",
       "      <th>7</th>\n",
       "      <td>license_description</td>\n",
       "      <td>0</td>\n",
       "      <td>106</td>\n",
       "      <td>[0.583, 0.124, 0.033, 0.033, 0.027, 0.023, 0.0...</td>\n",
       "    </tr>\n",
       "    <tr>\n",
       "      <th>8</th>\n",
       "      <td>application_type</td>\n",
       "      <td>0</td>\n",
       "      <td>5</td>\n",
       "      <td>[0.711, 0.272, 0.016, 0.0, 0.0]</td>\n",
       "    </tr>\n",
       "    <tr>\n",
       "      <th>9</th>\n",
       "      <td>application_created_date</td>\n",
       "      <td>64613</td>\n",
       "      <td>2899</td>\n",
       "      <td>[0.008, 0.006, 0.006, 0.003, 0.002, 0.002, 0.0...</td>\n",
       "    </tr>\n",
       "    <tr>\n",
       "      <th>10</th>\n",
       "      <td>application_requirements_complete</td>\n",
       "      <td>214</td>\n",
       "      <td>3078</td>\n",
       "      <td>[0.056, 0.05, 0.049, 0.049, 0.044, 0.032, 0.01...</td>\n",
       "    </tr>\n",
       "    <tr>\n",
       "      <th>11</th>\n",
       "      <td>payment_date</td>\n",
       "      <td>1289</td>\n",
       "      <td>4355</td>\n",
       "      <td>[0.004, 0.004, 0.004, 0.003, 0.003, 0.003, 0.0...</td>\n",
       "    </tr>\n",
       "    <tr>\n",
       "      <th>12</th>\n",
       "      <td>conditional_approval</td>\n",
       "      <td>0</td>\n",
       "      <td>2</td>\n",
       "      <td>[1.0, 0.0]</td>\n",
       "    </tr>\n",
       "    <tr>\n",
       "      <th>13</th>\n",
       "      <td>license_term_start_date</td>\n",
       "      <td>228</td>\n",
       "      <td>2825</td>\n",
       "      <td>[0.06, 0.052, 0.052, 0.051, 0.049, 0.046, 0.01...</td>\n",
       "    </tr>\n",
       "    <tr>\n",
       "      <th>14</th>\n",
       "      <td>license_term_expiration_date</td>\n",
       "      <td>18</td>\n",
       "      <td>297</td>\n",
       "      <td>[0.083, 0.074, 0.07, 0.069, 0.069, 0.013, 0.01...</td>\n",
       "    </tr>\n",
       "    <tr>\n",
       "      <th>15</th>\n",
       "      <td>license_approved_for_issuance</td>\n",
       "      <td>6788</td>\n",
       "      <td>4221</td>\n",
       "      <td>[0.061, 0.004, 0.004, 0.003, 0.003, 0.003, 0.0...</td>\n",
       "    </tr>\n",
       "    <tr>\n",
       "      <th>16</th>\n",
       "      <td>date_issued</td>\n",
       "      <td>0</td>\n",
       "      <td>3497</td>\n",
       "      <td>[0.007, 0.005, 0.004, 0.004, 0.003, 0.003, 0.0...</td>\n",
       "    </tr>\n",
       "    <tr>\n",
       "      <th>17</th>\n",
       "      <td>license_status_change_date</td>\n",
       "      <td>55358</td>\n",
       "      <td>3152</td>\n",
       "      <td>[0.33, 0.035, 0.025, 0.012, 0.011, 0.01, 0.009...</td>\n",
       "    </tr>\n",
       "    <tr>\n",
       "      <th>18</th>\n",
       "      <td>location</td>\n",
       "      <td>47209</td>\n",
       "      <td>21379</td>\n",
       "      <td>[0.014, 0.006, 0.004, 0.003, 0.003, 0.002, 0.0...</td>\n",
       "    </tr>\n",
       "  </tbody>\n",
       "</table>\n",
       "</div>"
      ],
      "text/plain": [
       "                             var_name  nr of null rows  nr of unique values  \\\n",
       "0                                  id                0                85842   \n",
       "1                          legal_name                0                38725   \n",
       "2              doing_business_as_name                1                41665   \n",
       "3                             address                0                42120   \n",
       "4                                city                0                 1217   \n",
       "5                               state                0                   52   \n",
       "6                       ward_precinct            49667                 2383   \n",
       "7                 license_description                0                  106   \n",
       "8                    application_type                0                    5   \n",
       "9            application_created_date            64613                 2899   \n",
       "10  application_requirements_complete              214                 3078   \n",
       "11                       payment_date             1289                 4355   \n",
       "12               conditional_approval                0                    2   \n",
       "13            license_term_start_date              228                 2825   \n",
       "14       license_term_expiration_date               18                  297   \n",
       "15      license_approved_for_issuance             6788                 4221   \n",
       "16                        date_issued                0                 3497   \n",
       "17         license_status_change_date            55358                 3152   \n",
       "18                           location            47209                21379   \n",
       "\n",
       "                                 population of values  \n",
       "0   [0.0, 0.0, 0.0, 0.0, 0.0, 0.0, 0.0, 0.0, 0.0, ...  \n",
       "1   [0.008, 0.002, 0.001, 0.001, 0.001, 0.001, 0.0...  \n",
       "2   [0.007, 0.001, 0.001, 0.001, 0.001, 0.001, 0.0...  \n",
       "3   [0.006, 0.002, 0.001, 0.001, 0.001, 0.001, 0.0...  \n",
       "4   [0.428, 0.015, 0.014, 0.012, 0.009, 0.009, 0.0...  \n",
       "5   [0.938, 0.02, 0.006, 0.004, 0.004, 0.003, 0.00...  \n",
       "6   [0.04, 0.031, 0.023, 0.013, 0.013, 0.008, 0.00...  \n",
       "7   [0.583, 0.124, 0.033, 0.033, 0.027, 0.023, 0.0...  \n",
       "8                     [0.711, 0.272, 0.016, 0.0, 0.0]  \n",
       "9   [0.008, 0.006, 0.006, 0.003, 0.002, 0.002, 0.0...  \n",
       "10  [0.056, 0.05, 0.049, 0.049, 0.044, 0.032, 0.01...  \n",
       "11  [0.004, 0.004, 0.004, 0.003, 0.003, 0.003, 0.0...  \n",
       "12                                         [1.0, 0.0]  \n",
       "13  [0.06, 0.052, 0.052, 0.051, 0.049, 0.046, 0.01...  \n",
       "14  [0.083, 0.074, 0.07, 0.069, 0.069, 0.013, 0.01...  \n",
       "15  [0.061, 0.004, 0.004, 0.003, 0.003, 0.003, 0.0...  \n",
       "16  [0.007, 0.005, 0.004, 0.004, 0.003, 0.003, 0.0...  \n",
       "17  [0.33, 0.035, 0.025, 0.012, 0.011, 0.01, 0.009...  \n",
       "18  [0.014, 0.006, 0.004, 0.003, 0.003, 0.002, 0.0...  "
      ]
     },
     "execution_count": 10,
     "metadata": {},
     "output_type": "execute_result"
    }
   ],
   "source": [
    "cat_df"
   ]
  },
  {
   "cell_type": "markdown",
   "id": "9af9cdb8-eb95-422d-ad52-122445b3944e",
   "metadata": {},
   "source": [
    "## Why we need to drop columns with many  Null/NaN values?\n",
    "- Reducing Model Complexity and Saving Resources: Dropping columns with many Null/NaN values indeed helps simplify the model by reducing the number of features it needs to consider. This, in turn, saves computational resources and can improve the efficiency of the model's training and inference processes.\n",
    "\n",
    "- Preventing Data Leakage: When a column is predominantly filled with Null/NaN values for a specific class or outcome, the model may inadvertently learn to associate this column with that class. This can lead to data leakage, where the model makes predictions based on irrelevant or biased information, rather than genuine patterns in the data. By dropping such columns, we mitigate the risk of data leakage and ensure that the model learns from meaningful features rather than spurious correlations\n",
    "- Permuting will not be efficient enough because the null values comprise more than half of all rows. As a result, permuting the data would likely not significantly alter the distribution of null values within the dataset, making it an ineffective strategy for handling missing values"
   ]
  },
  {
   "cell_type": "code",
   "execution_count": 11,
   "id": "7b6067a8-ffd5-43f2-b0aa-c050c84a9233",
   "metadata": {},
   "outputs": [
    {
     "data": {
      "text/html": [
       "<div>\n",
       "<style scoped>\n",
       "    .dataframe tbody tr th:only-of-type {\n",
       "        vertical-align: middle;\n",
       "    }\n",
       "\n",
       "    .dataframe tbody tr th {\n",
       "        vertical-align: top;\n",
       "    }\n",
       "\n",
       "    .dataframe thead th {\n",
       "        text-align: right;\n",
       "    }\n",
       "</style>\n",
       "<table border=\"1\" class=\"dataframe\">\n",
       "  <thead>\n",
       "    <tr style=\"text-align: right;\">\n",
       "      <th>license_status</th>\n",
       "      <th>AAC</th>\n",
       "      <th>AAI</th>\n",
       "      <th>INQ</th>\n",
       "      <th>REA</th>\n",
       "      <th>REV</th>\n",
       "    </tr>\n",
       "    <tr>\n",
       "      <th>license_status_change_date</th>\n",
       "      <th></th>\n",
       "      <th></th>\n",
       "      <th></th>\n",
       "      <th></th>\n",
       "      <th></th>\n",
       "    </tr>\n",
       "  </thead>\n",
       "  <tbody>\n",
       "    <tr>\n",
       "      <th>False</th>\n",
       "      <td>30189</td>\n",
       "      <td>0</td>\n",
       "      <td>2</td>\n",
       "      <td>3</td>\n",
       "      <td>290</td>\n",
       "    </tr>\n",
       "    <tr>\n",
       "      <th>True</th>\n",
       "      <td>0</td>\n",
       "      <td>55358</td>\n",
       "      <td>0</td>\n",
       "      <td>0</td>\n",
       "      <td>0</td>\n",
       "    </tr>\n",
       "  </tbody>\n",
       "</table>\n",
       "</div>"
      ],
      "text/plain": [
       "license_status                AAC    AAI  INQ  REA  REV\n",
       "license_status_change_date                             \n",
       "False                       30189      0    2    3  290\n",
       "True                            0  55358    0    0    0"
      ]
     },
     "execution_count": 11,
     "metadata": {},
     "output_type": "execute_result"
    }
   ],
   "source": [
    "# example\n",
    "pd.crosstab(df.license_status_change_date.isnull(),df.license_status)"
   ]
  },
  {
   "cell_type": "markdown",
   "id": "9093c740-473c-4fd3-b1cf-2b44ab67a2fa",
   "metadata": {},
   "source": [
    "__As__ we see the model could only look for Null values in \"license_status_change_date\" columns</br>\n",
    "and correctly predicts the licence_status as AAI ! "
   ]
  },
  {
   "cell_type": "markdown",
   "id": "0c80a591-34fb-419d-905c-533aad537aa8",
   "metadata": {},
   "source": [
    "to drop (not helpful or to many missing values):\n",
    "- location -> because , location = latitude + longitiude\n",
    "- id, legal_name, address,doing_business_as_name, application_created_date,license_status_change_date,ward_precinct"
   ]
  },
  {
   "cell_type": "code",
   "execution_count": 12,
   "id": "f8a99d33-3e3b-48fe-b6ce-4eabd88d3381",
   "metadata": {},
   "outputs": [],
   "source": [
    "cols_to_drop=['id','location','legal_name','doing_business_as_name',\n",
    "              'address','ward_precinct','application_created_date',\n",
    "              'license_status_change_date','ward_precinct']"
   ]
  },
  {
   "cell_type": "code",
   "execution_count": 13,
   "id": "3e2b0974-a003-4512-bddb-6bfbacea50d2",
   "metadata": {},
   "outputs": [],
   "source": [
    "df.drop(cols_to_drop,axis=1,inplace=True)"
   ]
  },
  {
   "cell_type": "code",
   "execution_count": 14,
   "id": "a4e3441c-927a-4e82-800a-27363053f728",
   "metadata": {},
   "outputs": [
    {
     "name": "stdout",
     "output_type": "stream",
     "text": [
      "nr of categorical: 11 and nummerical: 12 variables\n"
     ]
    }
   ],
   "source": [
    "# selecting categorical and numerical features\n",
    "target=['license_status']\n",
    "features= [col_name for col_name in df.columns if col_name not in target]\n",
    "#features\n",
    "numerical_ix = df[features].select_dtypes(include=['int64', 'float64']).columns\n",
    "categorical_ix = df[features].select_dtypes(include=['object', 'bool']).columns\n",
    "print(f'nr of categorical: {len(categorical_ix)} and nummerical: {len(numerical_ix)} variables')"
   ]
  },
  {
   "cell_type": "markdown",
   "id": "c03bb36f-18a2-44ab-936c-dea81d225626",
   "metadata": {},
   "source": [
    "### Numerical"
   ]
  },
  {
   "cell_type": "code",
   "execution_count": 15,
   "id": "fc3d3f03-eed2-4cda-a925-ac485e06fa7a",
   "metadata": {},
   "outputs": [],
   "source": [
    "# Exploring categorical values\n",
    "num_df=pd.DataFrame(columns=['var_name','nr of null rows','nr of unique values'])\n",
    "for i in range(len(numerical_ix)):\n",
    "    nr_null=df[numerical_ix[i]].isnull().sum()\n",
    "    nr_unique_v=df[numerical_ix[i]].nunique()\n",
    "    #count_unique_v=df[numerical_ix[i]].value_counts(normalize=True).round(3).to_list()\n",
    "    num_df.loc[i]=[numerical_ix[i]] + [nr_null] + [nr_unique_v] \n",
    "    #print(count_unique_v if nr_unique_v < 5 else '')"
   ]
  },
  {
   "cell_type": "code",
   "execution_count": 16,
   "id": "66328b4f-2598-42dc-be07-dc8f6f4ac1c2",
   "metadata": {},
   "outputs": [
    {
     "data": {
      "text/html": [
       "<div>\n",
       "<style scoped>\n",
       "    .dataframe tbody tr th:only-of-type {\n",
       "        vertical-align: middle;\n",
       "    }\n",
       "\n",
       "    .dataframe tbody tr th {\n",
       "        vertical-align: top;\n",
       "    }\n",
       "\n",
       "    .dataframe thead th {\n",
       "        text-align: right;\n",
       "    }\n",
       "</style>\n",
       "<table border=\"1\" class=\"dataframe\">\n",
       "  <thead>\n",
       "    <tr style=\"text-align: right;\">\n",
       "      <th></th>\n",
       "      <th>var_name</th>\n",
       "      <th>nr of null rows</th>\n",
       "      <th>nr of unique values</th>\n",
       "    </tr>\n",
       "  </thead>\n",
       "  <tbody>\n",
       "    <tr>\n",
       "      <th>0</th>\n",
       "      <td>license_id</td>\n",
       "      <td>0</td>\n",
       "      <td>85842</td>\n",
       "    </tr>\n",
       "    <tr>\n",
       "      <th>1</th>\n",
       "      <td>account_number</td>\n",
       "      <td>0</td>\n",
       "      <td>38877</td>\n",
       "    </tr>\n",
       "    <tr>\n",
       "      <th>2</th>\n",
       "      <td>site_number</td>\n",
       "      <td>0</td>\n",
       "      <td>177</td>\n",
       "    </tr>\n",
       "    <tr>\n",
       "      <th>3</th>\n",
       "      <td>zip_code</td>\n",
       "      <td>0</td>\n",
       "      <td>1703</td>\n",
       "    </tr>\n",
       "    <tr>\n",
       "      <th>4</th>\n",
       "      <td>ward</td>\n",
       "      <td>49668</td>\n",
       "      <td>50</td>\n",
       "    </tr>\n",
       "    <tr>\n",
       "      <th>5</th>\n",
       "      <td>precinct</td>\n",
       "      <td>56649</td>\n",
       "      <td>76</td>\n",
       "    </tr>\n",
       "    <tr>\n",
       "      <th>6</th>\n",
       "      <td>police_district</td>\n",
       "      <td>53960</td>\n",
       "      <td>28</td>\n",
       "    </tr>\n",
       "    <tr>\n",
       "      <th>7</th>\n",
       "      <td>license_code</td>\n",
       "      <td>0</td>\n",
       "      <td>106</td>\n",
       "    </tr>\n",
       "    <tr>\n",
       "      <th>8</th>\n",
       "      <td>license_number</td>\n",
       "      <td>1</td>\n",
       "      <td>49740</td>\n",
       "    </tr>\n",
       "    <tr>\n",
       "      <th>9</th>\n",
       "      <td>ssa</td>\n",
       "      <td>76396</td>\n",
       "      <td>53</td>\n",
       "    </tr>\n",
       "    <tr>\n",
       "      <th>10</th>\n",
       "      <td>latitude</td>\n",
       "      <td>47209</td>\n",
       "      <td>21377</td>\n",
       "    </tr>\n",
       "    <tr>\n",
       "      <th>11</th>\n",
       "      <td>longitude</td>\n",
       "      <td>47209</td>\n",
       "      <td>21379</td>\n",
       "    </tr>\n",
       "  </tbody>\n",
       "</table>\n",
       "</div>"
      ],
      "text/plain": [
       "           var_name  nr of null rows  nr of unique values\n",
       "0        license_id                0                85842\n",
       "1    account_number                0                38877\n",
       "2       site_number                0                  177\n",
       "3          zip_code                0                 1703\n",
       "4              ward            49668                   50\n",
       "5          precinct            56649                   76\n",
       "6   police_district            53960                   28\n",
       "7      license_code                0                  106\n",
       "8    license_number                1                49740\n",
       "9               ssa            76396                   53\n",
       "10         latitude            47209                21377\n",
       "11        longitude            47209                21379"
      ]
     },
     "execution_count": 16,
     "metadata": {},
     "output_type": "execute_result"
    }
   ],
   "source": [
    "num_df"
   ]
  },
  {
   "cell_type": "code",
   "execution_count": 17,
   "id": "d0e7f607-6694-49a4-88b3-08745e982ca7",
   "metadata": {},
   "outputs": [],
   "source": [
    "# nummeric cols to drop\n",
    "cols_to_drop=['license_id','account_number','ward','precinct','police_district','police_district',\n",
    "              'ssa','latitude','longitude']\n",
    "df.drop(cols_to_drop,axis=1,inplace=True)"
   ]
  },
  {
   "cell_type": "code",
   "execution_count": 18,
   "id": "3c921555-c872-4f6b-8456-168f5a331aa8",
   "metadata": {},
   "outputs": [
    {
     "name": "stdout",
     "output_type": "stream",
     "text": [
      "nr of categorical: 11 and nummerical: 4 variables\n"
     ]
    }
   ],
   "source": [
    "# selecting categorical and numerical features\n",
    "target=['license_status']\n",
    "features= [col_name for col_name in df.columns if col_name not in target]\n",
    "#features\n",
    "numerical_ix = df[features].select_dtypes(include=['int64', 'float64']).columns\n",
    "categorical_ix = df[features].select_dtypes(include=['object', 'bool']).columns\n",
    "print(f'nr of categorical: {len(categorical_ix)} and nummerical: {len(numerical_ix)} variables')"
   ]
  },
  {
   "cell_type": "code",
   "execution_count": 19,
   "id": "42ebe0e1-cfe7-45d0-92a1-6251235c199e",
   "metadata": {},
   "outputs": [
    {
     "data": {
      "text/plain": [
       "Index(['city', 'state', 'license_description', 'application_type',\n",
       "       'application_requirements_complete', 'payment_date',\n",
       "       'conditional_approval', 'license_term_start_date',\n",
       "       'license_term_expiration_date', 'license_approved_for_issuance',\n",
       "       'date_issued'],\n",
       "      dtype='object')"
      ]
     },
     "execution_count": 19,
     "metadata": {},
     "output_type": "execute_result"
    }
   ],
   "source": [
    "categorical_ix"
   ]
  },
  {
   "cell_type": "code",
   "execution_count": 20,
   "id": "b95d63aa-c864-4f08-a263-4594f9e4fac5",
   "metadata": {},
   "outputs": [
    {
     "data": {
      "text/plain": [
       "Index(['site_number', 'zip_code', 'license_code', 'license_number'], dtype='object')"
      ]
     },
     "execution_count": 20,
     "metadata": {},
     "output_type": "execute_result"
    }
   ],
   "source": [
    "numerical_ix"
   ]
  },
  {
   "cell_type": "markdown",
   "id": "43f8a00c-2f62-42f8-8068-d73ac8790976",
   "metadata": {},
   "source": [
    "## To note:\n",
    "__In__  a normal case, we would split the dataset to train and test and after that only do resampling on training part</br>\n",
    "but class 2 and 3 have only 5 samples together!</br>\n",
    "So it makes no sense to keep these classes,because the model could after all not create useful predictions for these classes!"
   ]
  },
  {
   "cell_type": "code",
   "execution_count": 21,
   "id": "0b1bbc41-f77d-4512-9a0a-8e3c078a4927",
   "metadata": {},
   "outputs": [
    {
     "data": {
      "text/plain": [
       "license_status\n",
       "AAI    55358\n",
       "AAC    30189\n",
       "REV      290\n",
       "REA        3\n",
       "INQ        2\n",
       "Name: count, dtype: int64"
      ]
     },
     "execution_count": 21,
     "metadata": {},
     "output_type": "execute_result"
    }
   ],
   "source": [
    "df.license_status.value_counts()"
   ]
  },
  {
   "cell_type": "code",
   "execution_count": 22,
   "id": "661590cd-4255-46d0-bbcc-36d694d01c29",
   "metadata": {},
   "outputs": [],
   "source": [
    "# drop the minority classes\n",
    "index_to_drop=df[(df.license_status == 'REA') | (df.license_status == 'INQ') ].index\n",
    "df.drop(index_to_drop,axis=0,inplace=True)"
   ]
  },
  {
   "cell_type": "markdown",
   "id": "6d44ca8b-349c-4804-ade5-579f742089da",
   "metadata": {},
   "source": [
    "## Transformation:\n",
    "- encoding the categorical variables\n",
    "- creating new features from time-based categorical features(dates)\n",
    "- scale the numerical and handle the outliers"
   ]
  },
  {
   "cell_type": "markdown",
   "id": "5654c7f0-72bf-409c-a959-72dd73210753",
   "metadata": {},
   "source": [
    "__Target__ Encoding of Catergorical Features:\n",
    "Some categorical features like \" city,state,license_description,application_type \" needs to be encoded! \n",
    "because of multiclass classification, we need to:\n",
    "- step 1: one hot code the target\n",
    "- step 2: target code every categorical feature with responding one-hot columns of labels"
   ]
  },
  {
   "cell_type": "code",
   "execution_count": 23,
   "id": "b8df5c7b-1bff-466c-aad7-8edd2690deb2",
   "metadata": {},
   "outputs": [
    {
     "data": {
      "text/plain": [
       "Index(['license_status_AAC', 'license_status_AAI', 'license_status_REV'], dtype='object')"
      ]
     },
     "execution_count": 23,
     "metadata": {},
     "output_type": "execute_result"
    }
   ],
   "source": [
    "#Step1 \n",
    "# One hotencoding of Target parameter \n",
    "from sklearn.preprocessing import OneHotEncoder,TargetEncoder,LabelEncoder\n",
    "from sklearn.preprocessing import TargetEncoder\n",
    "\n",
    "enc = OneHotEncoder(handle_unknown='ignore',sparse_output=False).set_output(transform='pandas')\n",
    "y_onehot=enc.fit_transform(df[target]);\n",
    "y_onehot.columns"
   ]
  },
  {
   "cell_type": "code",
   "execution_count": 24,
   "id": "f5076598-3eae-4214-a850-4649942f9c0e",
   "metadata": {},
   "outputs": [],
   "source": [
    "#Step2\n",
    "# target encoding of categroical features\n",
    "cat_cols_to_target=['city', 'state', 'license_description', 'application_type']\n",
    "te=TargetEncoder(target_type='auto',smooth=0).set_output(transform='pandas')# encoder\n",
    "for col_name in y_onehot.columns:\n",
    "    tmp=te.fit_transform(df[cat_cols_to_target],y_onehot[col_name])\n",
    "    tmp.columns=[ str(col_name).split(\"_\")[-1]+ \"_\"+str(c) for c in tmp.columns]\n",
    "    df= pd.concat([df,tmp],axis=1)"
   ]
  },
  {
   "cell_type": "code",
   "execution_count": 25,
   "id": "e268d2c3-f923-4af8-9027-72f9d5310730",
   "metadata": {},
   "outputs": [
    {
     "data": {
      "text/plain": [
       "Index(['site_number', 'city', 'state', 'zip_code', 'license_code',\n",
       "       'license_description', 'license_number', 'application_type',\n",
       "       'application_requirements_complete', 'payment_date',\n",
       "       'conditional_approval', 'license_term_start_date',\n",
       "       'license_term_expiration_date', 'license_approved_for_issuance',\n",
       "       'date_issued', 'license_status', 'AAC_city', 'AAC_state',\n",
       "       'AAC_license_description', 'AAC_application_type', 'AAI_city',\n",
       "       'AAI_state', 'AAI_license_description', 'AAI_application_type',\n",
       "       'REV_city', 'REV_state', 'REV_license_description',\n",
       "       'REV_application_type'],\n",
       "      dtype='object')"
      ]
     },
     "execution_count": 25,
     "metadata": {},
     "output_type": "execute_result"
    }
   ],
   "source": [
    "df.columns"
   ]
  },
  {
   "cell_type": "markdown",
   "id": "a05e1544-a96b-4d12-b6f5-f148c4c5f0a8",
   "metadata": {},
   "source": [
    "Now we have all categorical columns except the columns with dates encoded! "
   ]
  },
  {
   "cell_type": "code",
   "execution_count": 26,
   "id": "8812eded-5514-473d-bc07-f4ac9aa14570",
   "metadata": {},
   "outputs": [],
   "source": [
    "# Label encoding of \"license_status\" from string to numbers 1,2,3,4,5 for every class\n",
    "le = LabelEncoder()\n",
    "df['target_encoded']=le.fit_transform(df.license_status)"
   ]
  },
  {
   "cell_type": "code",
   "execution_count": 27,
   "id": "c4249026-8565-49f3-bc9b-026e3b389056",
   "metadata": {},
   "outputs": [],
   "source": [
    "# encode conditional_approval to numeric values \n",
    "df['conditional_approval']=df.conditional_approval.apply(lambda val : 1 if val=='Y' else 0)"
   ]
  },
  {
   "cell_type": "code",
   "execution_count": 28,
   "id": "c8ec4c8b-52f6-4e6e-a2e6-e0d4811131f6",
   "metadata": {},
   "outputs": [],
   "source": [
    "# now we will drop all encoded and unnecessary columns\n",
    "to_drop=['city', 'state','license_description', 'application_type','license_status',]\n",
    "df.drop(to_drop,inplace=True,axis=1)"
   ]
  },
  {
   "cell_type": "markdown",
   "id": "f43818b5-a259-41bc-92bf-3eb029b6a1f9",
   "metadata": {},
   "source": [
    "#### Exploration of dated-based Feature/Columns"
   ]
  },
  {
   "cell_type": "code",
   "execution_count": 29,
   "id": "2bfe08db-c9e4-4bb6-8254-7380a1ed0850",
   "metadata": {},
   "outputs": [],
   "source": [
    "# now creating new features from time based-features / Dates \n",
    "time_based_columns=['application_requirements_complete','payment_date','license_term_start_date',\n",
    "                   'license_term_expiration_date','license_approved_for_issuance','date_issued']\n"
   ]
  },
  {
   "cell_type": "code",
   "execution_count": 30,
   "id": "b49d434c-ce86-48b5-9260-835190c80ed0",
   "metadata": {},
   "outputs": [
    {
     "data": {
      "text/html": [
       "<div>\n",
       "<style scoped>\n",
       "    .dataframe tbody tr th:only-of-type {\n",
       "        vertical-align: middle;\n",
       "    }\n",
       "\n",
       "    .dataframe tbody tr th {\n",
       "        vertical-align: top;\n",
       "    }\n",
       "\n",
       "    .dataframe thead th {\n",
       "        text-align: right;\n",
       "    }\n",
       "</style>\n",
       "<table border=\"1\" class=\"dataframe\">\n",
       "  <thead>\n",
       "    <tr style=\"text-align: right;\">\n",
       "      <th></th>\n",
       "      <th>0</th>\n",
       "      <th>1</th>\n",
       "      <th>2</th>\n",
       "      <th>3</th>\n",
       "      <th>4</th>\n",
       "    </tr>\n",
       "  </thead>\n",
       "  <tbody>\n",
       "    <tr>\n",
       "      <th>application_requirements_complete</th>\n",
       "      <td>2002-06-28T00:00:00</td>\n",
       "      <td>2005-09-22T00:00:00</td>\n",
       "      <td>2009-07-22T00:00:00</td>\n",
       "      <td>2004-02-10T00:00:00</td>\n",
       "      <td>2008-03-24T00:00:00</td>\n",
       "    </tr>\n",
       "    <tr>\n",
       "      <th>payment_date</th>\n",
       "      <td>2002-08-21T00:00:00</td>\n",
       "      <td>2005-11-03T00:00:00</td>\n",
       "      <td>2009-07-22T00:00:00</td>\n",
       "      <td>2004-02-10T00:00:00</td>\n",
       "      <td>2008-06-04T00:00:00</td>\n",
       "    </tr>\n",
       "    <tr>\n",
       "      <th>license_term_start_date</th>\n",
       "      <td>2002-08-16T00:00:00</td>\n",
       "      <td>2005-11-16T00:00:00</td>\n",
       "      <td>2009-07-22T00:00:00</td>\n",
       "      <td>2004-02-11T00:00:00</td>\n",
       "      <td>2008-05-16T00:00:00</td>\n",
       "    </tr>\n",
       "    <tr>\n",
       "      <th>license_term_expiration_date</th>\n",
       "      <td>2003-08-15T00:00:00</td>\n",
       "      <td>2006-11-15T00:00:00</td>\n",
       "      <td>2011-07-15T00:00:00</td>\n",
       "      <td>2005-02-15T00:00:00</td>\n",
       "      <td>2010-05-15T00:00:00</td>\n",
       "    </tr>\n",
       "    <tr>\n",
       "      <th>license_approved_for_issuance</th>\n",
       "      <td>2002-08-21T00:00:00</td>\n",
       "      <td>2006-04-05T00:00:00</td>\n",
       "      <td>2009-07-22T00:00:00</td>\n",
       "      <td>2004-02-10T00:00:00</td>\n",
       "      <td>2008-06-04T00:00:00</td>\n",
       "    </tr>\n",
       "    <tr>\n",
       "      <th>date_issued</th>\n",
       "      <td>2006-04-11T00:00:00</td>\n",
       "      <td>2006-06-12T00:00:00</td>\n",
       "      <td>2009-07-22T00:00:00</td>\n",
       "      <td>2004-02-11T00:00:00</td>\n",
       "      <td>2008-06-05T00:00:00</td>\n",
       "    </tr>\n",
       "  </tbody>\n",
       "</table>\n",
       "</div>"
      ],
      "text/plain": [
       "                                                     0                    1  \\\n",
       "application_requirements_complete  2002-06-28T00:00:00  2005-09-22T00:00:00   \n",
       "payment_date                       2002-08-21T00:00:00  2005-11-03T00:00:00   \n",
       "license_term_start_date            2002-08-16T00:00:00  2005-11-16T00:00:00   \n",
       "license_term_expiration_date       2003-08-15T00:00:00  2006-11-15T00:00:00   \n",
       "license_approved_for_issuance      2002-08-21T00:00:00  2006-04-05T00:00:00   \n",
       "date_issued                        2006-04-11T00:00:00  2006-06-12T00:00:00   \n",
       "\n",
       "                                                     2                    3  \\\n",
       "application_requirements_complete  2009-07-22T00:00:00  2004-02-10T00:00:00   \n",
       "payment_date                       2009-07-22T00:00:00  2004-02-10T00:00:00   \n",
       "license_term_start_date            2009-07-22T00:00:00  2004-02-11T00:00:00   \n",
       "license_term_expiration_date       2011-07-15T00:00:00  2005-02-15T00:00:00   \n",
       "license_approved_for_issuance      2009-07-22T00:00:00  2004-02-10T00:00:00   \n",
       "date_issued                        2009-07-22T00:00:00  2004-02-11T00:00:00   \n",
       "\n",
       "                                                     4  \n",
       "application_requirements_complete  2008-03-24T00:00:00  \n",
       "payment_date                       2008-06-04T00:00:00  \n",
       "license_term_start_date            2008-05-16T00:00:00  \n",
       "license_term_expiration_date       2010-05-15T00:00:00  \n",
       "license_approved_for_issuance      2008-06-04T00:00:00  \n",
       "date_issued                        2008-06-05T00:00:00  "
      ]
     },
     "execution_count": 30,
     "metadata": {},
     "output_type": "execute_result"
    }
   ],
   "source": [
    "df[time_based_columns].head().T"
   ]
  },
  {
   "cell_type": "markdown",
   "id": "9c9bcb41-0b18-43f0-9a7c-d45cb114d299",
   "metadata": {},
   "source": [
    "#### Feature engineering form Date-based columns:\n",
    "In the original from are the columns with dates not useful, so we will extract potentaly usful </br>\n",
    "numbers from them in from of days between:\n",
    "- start to expiration\n",
    "- payed to start\n",
    "- requiremets completed  to payed\n",
    "- approved for issuance to issued"
   ]
  },
  {
   "cell_type": "code",
   "execution_count": 31,
   "id": "86ab181e-c3e6-4826-bd8c-318c38d63ea9",
   "metadata": {},
   "outputs": [],
   "source": [
    "df['start_expiration']=(pd.to_datetime(df.license_term_start_date) - pd.to_datetime(df.license_term_expiration_date)).dt.days.abs()\n",
    "df['payed_start']=(pd.to_datetime(df.payment_date) - pd.to_datetime(df.license_term_start_date)).dt.days.abs()\n",
    "df['compelted_start']=(pd.to_datetime(df.license_term_start_date) - pd.to_datetime(df.application_requirements_complete)).dt.days.abs()\n",
    "df['approved_issued']=(pd.to_datetime(df.license_approved_for_issuance) - pd.to_datetime(df.date_issued)).dt.days.abs()\n",
    "# drop the orginal dated based columns\n",
    "df.drop(time_based_columns,inplace=True,axis=1)"
   ]
  },
  {
   "cell_type": "code",
   "execution_count": 32,
   "id": "c67a609d-53a9-47b5-a057-a224997fb837",
   "metadata": {},
   "outputs": [
    {
     "data": {
      "text/plain": [
       "Index(['site_number', 'zip_code', 'license_code', 'license_number',\n",
       "       'conditional_approval', 'AAC_city', 'AAC_state',\n",
       "       'AAC_license_description', 'AAC_application_type', 'AAI_city',\n",
       "       'AAI_state', 'AAI_license_description', 'AAI_application_type',\n",
       "       'REV_city', 'REV_state', 'REV_license_description',\n",
       "       'REV_application_type', 'target_encoded', 'start_expiration',\n",
       "       'payed_start', 'compelted_start', 'approved_issued'],\n",
       "      dtype='object')"
      ]
     },
     "execution_count": 32,
     "metadata": {},
     "output_type": "execute_result"
    }
   ],
   "source": [
    "df.columns"
   ]
  },
  {
   "cell_type": "code",
   "execution_count": 33,
   "id": "e9030e36-d45d-40dc-9506-b9d765487020",
   "metadata": {},
   "outputs": [
    {
     "name": "stdout",
     "output_type": "stream",
     "text": [
      "target_encoded\n",
      "1    55358\n",
      "0    30189\n",
      "2      290\n",
      "Name: count, dtype: int64\n"
     ]
    },
    {
     "data": {
      "text/plain": [
       "<Axes: xlabel='target_encoded'>"
      ]
     },
     "execution_count": 33,
     "metadata": {},
     "output_type": "execute_result"
    },
    {
     "data": {
      "image/png": "[encoded data removed]",
      "text/plain": [
       "<Figure size 640x480 with 1 Axes>"
      ]
     },
     "metadata": {},
     "output_type": "display_data"
    }
   ],
   "source": [
    "# imbalance in classes\n",
    "print(df.target_encoded.value_counts())\n",
    "df.target_encoded.value_counts(normalize=True).plot.bar()"
   ]
  },
  {
   "cell_type": "markdown",
   "id": "ddd27ce1-6219-4e31-b5ce-26599e725182",
   "metadata": {},
   "source": [
    "### Now we will create a function to do all preprocessing done until now ! "
   ]
  },
  {
   "cell_type": "code",
   "execution_count": 34,
   "id": "a8988b0f-ca86-4aac-ad73-f49931f92edc",
   "metadata": {},
   "outputs": [],
   "source": [
    "def preprocess_dataset():\n",
    "    \"\"\"\n",
    "    function to do preprocessing and feature extraction on dataset\n",
    "\n",
    "    Return:\n",
    "        df : pandas DataFrame as cleaned Dataset \n",
    "    \"\"\"\n",
    "    df = pd.read_csv(\"./dev/input/License_Data.csv\")\n",
    "    new_names=[col_name.replace(\" \",\"_\").lower() for col_name in df.columns ]\n",
    "    df.columns=new_names\n",
    "    #------------------------\n",
    "    # column zip_code is numerical, but somehow recognized as object , so convert it back \n",
    "    zip_numeric=pd.to_numeric(df.zip_code,errors='coerce')\n",
    "    index_to_drop=df[zip_numeric.isnull()].index\n",
    "    df.zip_code=zip_numeric #set the numeric values\n",
    "    df.drop(index_to_drop,inplace=True) # drop rows with null value\n",
    "    \n",
    "    #---------------------------------------------------------------\n",
    "    cols_to_drop=['id','location','legal_name','doing_business_as_name',\n",
    "              'address','ward_precinct','application_created_date',\n",
    "              'license_status_change_date','ward_precinct']\n",
    "    df.drop(cols_to_drop,axis=1,inplace=True)\n",
    "    \n",
    "    #------------------------------------------------------------------\n",
    "    # nummeric cols to drop\n",
    "    cols_to_drop=['license_id','account_number','ward','precinct','police_district',\n",
    "                  'police_district','ssa','latitude','longitude']\n",
    "    df.drop(cols_to_drop,axis=1,inplace=True)\n",
    "    \n",
    "    #---------------------------------------------------------\n",
    "    # drop extrem minority classes!\n",
    "    index_to_drop=df[(df.license_status == 'REA') | (df.license_status == 'INQ') ].index\n",
    "    df.drop(index_to_drop,axis=0,inplace=True)\n",
    "    # encoding\n",
    "    from sklearn.preprocessing import OneHotEncoder,TargetEncoder,LabelEncoder\n",
    "    target=['license_status']\n",
    "    enc = OneHotEncoder(handle_unknown='ignore',sparse_output=False).set_output(transform='pandas')\n",
    "    y_onehot=enc.fit_transform(df[target]);\n",
    "    # target encoding of categroical features\n",
    "    cat_cols_to_target=['city', 'state', 'license_description', 'application_type']\n",
    "    te=TargetEncoder(target_type='auto',smooth=0).set_output(transform='pandas')# encoder\n",
    "    for col_name in y_onehot.columns:\n",
    "        tmp=te.fit_transform(df[cat_cols_to_target],y_onehot[col_name])\n",
    "        tmp.columns=[ str(col_name).split(\"_\")[-1]+ \"_\"+str(c) for c in tmp.columns]\n",
    "        df= pd.concat([df,tmp],axis=1)\n",
    "    \n",
    "    #-------------------------------------------------------------\n",
    "    # Label encoding of \"license_status\" from string to numbers 1,2,3,4,5 for every class\n",
    "    le = LabelEncoder()\n",
    "    df['target_encoded']=le.fit_transform(df[target])\n",
    "    # encode conditional_approval to numeric values \n",
    "    df['conditional_approval']=df.conditional_approval.apply(lambda val : 1 if val=='Y' else 0)\n",
    "    # now we will drop all encoded and unnecessary columns\n",
    "    to_drop=['city', 'state','license_description', 'application_type','license_status',]\n",
    "    df.drop(to_drop,inplace=True,axis=1)\n",
    "    \n",
    "    #----------------------------------------------------------\n",
    "    # now creating new features from time based-features / Dates \n",
    "    time_based_columns=['application_requirements_complete','payment_date','license_term_start_date',\n",
    "                   'license_term_expiration_date','license_approved_for_issuance','date_issued']\n",
    "    df['start_expiration']=(pd.to_datetime(df.license_term_start_date) - pd.to_datetime(df.license_term_expiration_date)).dt.days.abs()\n",
    "    df['payed_start']=(pd.to_datetime(df.payment_date) - pd.to_datetime(df.license_term_start_date)).dt.days.abs()\n",
    "    df['compelted_start']=(pd.to_datetime(df.license_term_start_date) - pd.to_datetime(df.application_requirements_complete)).dt.days.abs()\n",
    "    df['approved_issued']=(pd.to_datetime(df.license_approved_for_issuance) - pd.to_datetime(df.date_issued)).dt.days.abs()\n",
    "    # drop the orginal dated based columns\n",
    "    df.drop(time_based_columns,inplace=True,axis=1)\n",
    "\n",
    "    #----------------------------------------------------------\n",
    "    return df"
   ]
  },
  {
   "cell_type": "markdown",
   "id": "41bb7323-99a4-4e99-a249-cec1f803d11b",
   "metadata": {},
   "source": [
    "## Creating a baseline model \n",
    "- in first step we will a random forest model as our baseline model for comparision\n",
    "### To note:\n",
    "- Because a rondom forest model is not __sensitive to ourliers or normal distributed or scaled data__ </br>\n",
    "we don't need these stepes in our pipline!"
   ]
  },
  {
   "cell_type": "markdown",
   "id": "e0d02179-e356-4e48-8153-ecb2d93f1d8a",
   "metadata": {},
   "source": [
    "### Metrics to evaluate the performance of the model:\n",
    "- accuracy / f1-micro: overall performance of the model\n",
    "- macro avg: sum of f1-score for each class and divided by number of classes\n",
    "- weighted: like macro avg but with weighting the f1-score based on numbers of samples(support) in test dataset, more samples-> more weights on f1-score"
   ]
  },
  {
   "cell_type": "code",
   "execution_count": 35,
   "id": "ec14c948-2f1f-490a-9236-1b4f48c319b1",
   "metadata": {},
   "outputs": [],
   "source": [
    "from sklearn.model_selection import train_test_split\n",
    "from sklearn.ensemble import RandomForestClassifier\n",
    "from sklearn.metrics import f1_score\n",
    "from sklearn.tree import DecisionTreeClassifier\n",
    "from sklearn.metrics import classification_report,confusion_matrix\n",
    "#-------------------------------\n",
    "from sklearn.model_selection import GridSearchCV,KFold\n",
    "from collections import Counter\n",
    "from imblearn.pipeline import Pipeline\n",
    "from imblearn.over_sampling import SMOTE,RandomOverSampler\n",
    "from imblearn.under_sampling import RandomUnderSampler\n",
    "from sklearn.impute import SimpleImputer\n",
    "from sklearn.model_selection import cross_validate"
   ]
  },
  {
   "cell_type": "code",
   "execution_count": 45,
   "id": "415886d7-c875-4ae5-b71c-40d011b28e8f",
   "metadata": {},
   "outputs": [],
   "source": [
    "# creating dataset for train and test\n",
    "dataset=preprocess_dataset()\n",
    "dataset.target_encoded.value_counts()\n",
    "test_size=0.2\n",
    "y=dataset.target_encoded.to_frame()\n",
    "df_train, df_test = train_test_split(dataset, test_size=test_size, random_state=0, stratify=y)\n",
    "# train \n",
    "X_train=df_train.drop(['target_encoded'],axis=1)\n",
    "y_train=df_train['target_encoded']\n",
    "# test\n",
    "X_test=df_test.drop(['target_encoded'],axis=1)\n",
    "y_test=df_test['target_encoded']"
   ]
  },
  {
   "cell_type": "code",
   "execution_count": 46,
   "id": "67b1140b-8a74-4f68-b2c3-68352f316279",
   "metadata": {},
   "outputs": [
    {
     "data": {
      "text/plain": [
       "target_encoded\n",
       "1    55358\n",
       "0    30189\n",
       "2      290\n",
       "Name: count, dtype: int64"
      ]
     },
     "execution_count": 46,
     "metadata": {},
     "output_type": "execute_result"
    }
   ],
   "source": [
    "dataset.target_encoded.value_counts()"
   ]
  },
  {
   "cell_type": "code",
   "execution_count": 47,
   "id": "4ada787b-193e-46e0-9955-9dee9d05fc55",
   "metadata": {},
   "outputs": [],
   "source": [
    "#------------------------------------------------\n",
    "# definiton of over and under sampling portion for every class\n",
    "classes_population=Counter(df_train.target_encoded)\n",
    "r_m_classes=0.6 # percentage to reduce the majority classes\n",
    "class_1=int(classes_population[1] * r_m_classes)\n",
    "class_2= int(class_1 * 0.1) # \n",
    "rus_dic={1:class_1} # majority class\n",
    "ros_dic={2:class_2} # minority class\n",
    "\n",
    "# creating a pipline for training and testing\n",
    "over = RandomOverSampler(sampling_strategy=ros_dic,random_state=0)\n",
    "under = RandomUnderSampler(sampling_strategy=rus_dic,random_state=0)\n",
    "model = DecisionTreeClassifier(random_state=0)\n",
    "imp_mean = SimpleImputer(strategy='mean')\n",
    "steps = [('i',imp_mean),('u', under),('o', over),('model',model)]\n",
    "pipe= Pipeline(steps=steps)\n"
   ]
  },
  {
   "cell_type": "code",
   "execution_count": 48,
   "id": "dd278e00-87d0-45f0-ae88-a61d0228bfdc",
   "metadata": {},
   "outputs": [
    {
     "data": {
      "text/plain": [
       "(26571, 24151, 2657)"
      ]
     },
     "execution_count": 48,
     "metadata": {},
     "output_type": "execute_result"
    }
   ],
   "source": [
    "class_1,class_0,class_2"
   ]
  },
  {
   "cell_type": "code",
   "execution_count": 49,
   "id": "cecfac15-e13a-40ba-a8e2-3955d87d8e8f",
   "metadata": {},
   "outputs": [],
   "source": [
    "# Cross Validate the model for ajusting the expections and reginizing Over and under fitting !\n",
    "scoring = ['f1_macro']\n",
    "results=cross_validate(pipe,X_train,y_train,scoring=scoring,cv=5)\n",
    "res_df=pd.DataFrame(results)"
   ]
  },
  {
   "cell_type": "code",
   "execution_count": 50,
   "id": "af3645be-f6f4-4b4b-bbb3-766ab179030c",
   "metadata": {},
   "outputs": [
    {
     "data": {
      "text/html": [
       "<div>\n",
       "<style scoped>\n",
       "    .dataframe tbody tr th:only-of-type {\n",
       "        vertical-align: middle;\n",
       "    }\n",
       "\n",
       "    .dataframe tbody tr th {\n",
       "        vertical-align: top;\n",
       "    }\n",
       "\n",
       "    .dataframe thead th {\n",
       "        text-align: right;\n",
       "    }\n",
       "</style>\n",
       "<table border=\"1\" class=\"dataframe\">\n",
       "  <thead>\n",
       "    <tr style=\"text-align: right;\">\n",
       "      <th></th>\n",
       "      <th>fit_time</th>\n",
       "      <th>score_time</th>\n",
       "      <th>test_f1_macro</th>\n",
       "    </tr>\n",
       "  </thead>\n",
       "  <tbody>\n",
       "    <tr>\n",
       "      <th>0</th>\n",
       "      <td>0.528600</td>\n",
       "      <td>0.008929</td>\n",
       "      <td>0.601083</td>\n",
       "    </tr>\n",
       "    <tr>\n",
       "      <th>1</th>\n",
       "      <td>0.507063</td>\n",
       "      <td>0.009411</td>\n",
       "      <td>0.598500</td>\n",
       "    </tr>\n",
       "    <tr>\n",
       "      <th>2</th>\n",
       "      <td>0.550796</td>\n",
       "      <td>0.009809</td>\n",
       "      <td>0.643088</td>\n",
       "    </tr>\n",
       "    <tr>\n",
       "      <th>3</th>\n",
       "      <td>0.557106</td>\n",
       "      <td>0.009990</td>\n",
       "      <td>0.632839</td>\n",
       "    </tr>\n",
       "    <tr>\n",
       "      <th>4</th>\n",
       "      <td>0.540182</td>\n",
       "      <td>0.009327</td>\n",
       "      <td>0.631795</td>\n",
       "    </tr>\n",
       "  </tbody>\n",
       "</table>\n",
       "</div>"
      ],
      "text/plain": [
       "   fit_time  score_time  test_f1_macro\n",
       "0  0.528600    0.008929       0.601083\n",
       "1  0.507063    0.009411       0.598500\n",
       "2  0.550796    0.009809       0.643088\n",
       "3  0.557106    0.009990       0.632839\n",
       "4  0.540182    0.009327       0.631795"
      ]
     },
     "execution_count": 50,
     "metadata": {},
     "output_type": "execute_result"
    }
   ],
   "source": [
    "res_df"
   ]
  },
  {
   "cell_type": "markdown",
   "id": "d09aeeb5-c3be-4178-b425-9a1c2b9af03b",
   "metadata": {},
   "source": [
    "__Now__ we now , what to expect from a model (f1-Score about 0.6 - 0.64 ) !  "
   ]
  },
  {
   "cell_type": "code",
   "execution_count": 51,
   "id": "469bc418-107d-47a1-b423-87863a472aa7",
   "metadata": {},
   "outputs": [
    {
     "name": "stdout",
     "output_type": "stream",
     "text": [
      "              precision    recall  f1-score   support\n",
      "\n",
      "           0       0.75      0.83      0.79      6038\n",
      "           1       0.91      0.85      0.88     11072\n",
      "           2       0.27      0.28      0.27        58\n",
      "\n",
      "    accuracy                           0.84     17168\n",
      "   macro avg       0.64      0.65      0.64     17168\n",
      "weighted avg       0.85      0.84      0.84     17168\n",
      "\n"
     ]
    }
   ],
   "source": [
    "# create a model and train and test it \n",
    "pipe.fit(X_train,y_train);\n",
    "y_preds=pipe.predict(X_test)\n",
    "print(classification_report(y_test,y_preds))"
   ]
  },
  {
   "cell_type": "markdown",
   "id": "40949357-a08c-4455-b760-4a9756d8dcff",
   "metadata": {},
   "source": [
    "## Comparing the results with a different model ( hyperparameter tuning with GridSearch)"
   ]
  },
  {
   "cell_type": "code",
   "execution_count": 52,
   "id": "278bf036-1ba5-438b-9d62-c9f529eb379e",
   "metadata": {},
   "outputs": [],
   "source": [
    "classes_population=Counter(df_train.target_encoded)\n",
    "r_m_classes=0.6 # percentage to reduce the majority class\n",
    "seed=73\n",
    "class_1=int(classes_population[1] * r_m_classes)\n",
    "class_2= int(class_1 * 0.1) # \n",
    "rus_dic={1:class_1} # majority class\n",
    "ros_dic={2:class_2} # minority class\n",
    "#------------------------\n",
    "over = SMOTE(sampling_strategy=ros_dic,random_state=seed)\n",
    "under = RandomUnderSampler(sampling_strategy=rus_dic,random_state=seed)\n",
    "model = DecisionTreeClassifier(random_state=seed)\n",
    "imp_simple = SimpleImputer()\n",
    "steps = [('i',imp_simple),('u', under),('o', over),('model',model)]\n",
    "pipe= Pipeline(steps=steps)"
   ]
  },
  {
   "cell_type": "code",
   "execution_count": 54,
   "id": "12263314-9498-458f-952a-6e20e6c51135",
   "metadata": {},
   "outputs": [],
   "source": [
    "cv = KFold(n_splits=3, shuffle=True, random_state=0)\n",
    "imputing_strategy=['mean','median','most_frequent']\n",
    "scoring = ['accuracy','f1_macro']\n",
    "criterion = ['gini', 'entropy']\n",
    "max_depth = [2,4,6,8,10,12]\n",
    "class_weights=[{0:1,1:1,2:1}]\n",
    "parameters = dict(i__strategy=imputing_strategy,model__criterion=criterion,\n",
    "                  model__max_depth=max_depth,model__class_weight=class_weights)\n",
    "clf_GS = GridSearchCV(pipe, parameters,scoring=scoring,return_train_score=False,\n",
    "                      cv=cv,refit='f1_macro',error_score='raise',)\n",
    "gs_results=clf_GS.fit(X_train,y_train);"
   ]
  },
  {
   "cell_type": "code",
   "execution_count": 55,
   "id": "f50e8d02-7bf3-4a89-8fbe-e759c2c89ed5",
   "metadata": {},
   "outputs": [
    {
     "data": {
      "text/html": [
       "<div>\n",
       "<style scoped>\n",
       "    .dataframe tbody tr th:only-of-type {\n",
       "        vertical-align: middle;\n",
       "    }\n",
       "\n",
       "    .dataframe tbody tr th {\n",
       "        vertical-align: top;\n",
       "    }\n",
       "\n",
       "    .dataframe thead th {\n",
       "        text-align: right;\n",
       "    }\n",
       "</style>\n",
       "<table border=\"1\" class=\"dataframe\">\n",
       "  <thead>\n",
       "    <tr style=\"text-align: right;\">\n",
       "      <th></th>\n",
       "      <th>mean_fit_time</th>\n",
       "      <th>std_fit_time</th>\n",
       "      <th>mean_score_time</th>\n",
       "      <th>std_score_time</th>\n",
       "      <th>param_i__strategy</th>\n",
       "      <th>param_model__class_weight</th>\n",
       "      <th>param_model__criterion</th>\n",
       "      <th>param_model__max_depth</th>\n",
       "      <th>params</th>\n",
       "      <th>split0_test_accuracy</th>\n",
       "      <th>...</th>\n",
       "      <th>split2_test_accuracy</th>\n",
       "      <th>mean_test_accuracy</th>\n",
       "      <th>std_test_accuracy</th>\n",
       "      <th>rank_test_accuracy</th>\n",
       "      <th>split0_test_f1_macro</th>\n",
       "      <th>split1_test_f1_macro</th>\n",
       "      <th>split2_test_f1_macro</th>\n",
       "      <th>mean_test_f1_macro</th>\n",
       "      <th>std_test_f1_macro</th>\n",
       "      <th>rank_test_f1_macro</th>\n",
       "    </tr>\n",
       "  </thead>\n",
       "  <tbody>\n",
       "    <tr>\n",
       "      <th>11</th>\n",
       "      <td>0.364166</td>\n",
       "      <td>0.003542</td>\n",
       "      <td>0.012524</td>\n",
       "      <td>0.000259</td>\n",
       "      <td>mean</td>\n",
       "      <td>{0: 1, 1: 1, 2: 1}</td>\n",
       "      <td>entropy</td>\n",
       "      <td>12</td>\n",
       "      <td>{'i__strategy': 'mean', 'model__class_weight':...</td>\n",
       "      <td>0.883137</td>\n",
       "      <td>...</td>\n",
       "      <td>0.881209</td>\n",
       "      <td>0.882320</td>\n",
       "      <td>0.000814</td>\n",
       "      <td>1</td>\n",
       "      <td>0.679287</td>\n",
       "      <td>0.649268</td>\n",
       "      <td>0.661563</td>\n",
       "      <td>0.663373</td>\n",
       "      <td>0.012322</td>\n",
       "      <td>12</td>\n",
       "    </tr>\n",
       "    <tr>\n",
       "      <th>15</th>\n",
       "      <td>0.312261</td>\n",
       "      <td>0.003604</td>\n",
       "      <td>0.011896</td>\n",
       "      <td>0.000092</td>\n",
       "      <td>median</td>\n",
       "      <td>{0: 1, 1: 1, 2: 1}</td>\n",
       "      <td>gini</td>\n",
       "      <td>8</td>\n",
       "      <td>{'i__strategy': 'median', 'model__class_weight...</td>\n",
       "      <td>0.876322</td>\n",
       "      <td>...</td>\n",
       "      <td>0.873345</td>\n",
       "      <td>0.874252</td>\n",
       "      <td>0.001467</td>\n",
       "      <td>17</td>\n",
       "      <td>0.694117</td>\n",
       "      <td>0.648431</td>\n",
       "      <td>0.670100</td>\n",
       "      <td>0.670883</td>\n",
       "      <td>0.018659</td>\n",
       "      <td>1</td>\n",
       "    </tr>\n",
       "  </tbody>\n",
       "</table>\n",
       "<p>2 rows × 21 columns</p>\n",
       "</div>"
      ],
      "text/plain": [
       "    mean_fit_time  std_fit_time  mean_score_time  std_score_time  \\\n",
       "11       0.364166      0.003542         0.012524        0.000259   \n",
       "15       0.312261      0.003604         0.011896        0.000092   \n",
       "\n",
       "   param_i__strategy param_model__class_weight param_model__criterion  \\\n",
       "11              mean        {0: 1, 1: 1, 2: 1}                entropy   \n",
       "15            median        {0: 1, 1: 1, 2: 1}                   gini   \n",
       "\n",
       "   param_model__max_depth                                             params  \\\n",
       "11                     12  {'i__strategy': 'mean', 'model__class_weight':...   \n",
       "15                      8  {'i__strategy': 'median', 'model__class_weight...   \n",
       "\n",
       "    split0_test_accuracy  ...  split2_test_accuracy  mean_test_accuracy  \\\n",
       "11              0.883137  ...              0.881209            0.882320   \n",
       "15              0.876322  ...              0.873345            0.874252   \n",
       "\n",
       "    std_test_accuracy  rank_test_accuracy  split0_test_f1_macro  \\\n",
       "11           0.000814                   1              0.679287   \n",
       "15           0.001467                  17              0.694117   \n",
       "\n",
       "    split1_test_f1_macro  split2_test_f1_macro  mean_test_f1_macro  \\\n",
       "11              0.649268              0.661563            0.663373   \n",
       "15              0.648431              0.670100            0.670883   \n",
       "\n",
       "    std_test_f1_macro  rank_test_f1_macro  \n",
       "11           0.012322                  12  \n",
       "15           0.018659                   1  \n",
       "\n",
       "[2 rows x 21 columns]"
      ]
     },
     "execution_count": 55,
     "metadata": {},
     "output_type": "execute_result"
    }
   ],
   "source": [
    "res_df=pd.DataFrame(gs_results.cv_results_)\n",
    "res_df[(res_df.rank_test_accuracy==1) | (res_df.rank_test_f1_macro==1)]"
   ]
  },
  {
   "cell_type": "code",
   "execution_count": 56,
   "id": "92408169-b571-4d6b-9acd-c40aae97cdb6",
   "metadata": {},
   "outputs": [
    {
     "data": {
      "text/plain": [
       "{'i__strategy': 'median',\n",
       " 'model__class_weight': {0: 1, 1: 1, 2: 1},\n",
       " 'model__criterion': 'gini',\n",
       " 'model__max_depth': 8}"
      ]
     },
     "execution_count": 56,
     "metadata": {},
     "output_type": "execute_result"
    }
   ],
   "source": [
    "gs_results.best_params_"
   ]
  },
  {
   "cell_type": "code",
   "execution_count": 57,
   "id": "ff30d45d-9103-45ee-ba81-ba930a70744a",
   "metadata": {},
   "outputs": [
    {
     "data": {
      "text/plain": [
       "0.6708828158060368"
      ]
     },
     "execution_count": 57,
     "metadata": {},
     "output_type": "execute_result"
    }
   ],
   "source": [
    "gs_results.best_score_"
   ]
  },
  {
   "cell_type": "code",
   "execution_count": 58,
   "id": "ef39295c-8034-46c3-811f-fc5a9eafbf9a",
   "metadata": {},
   "outputs": [
    {
     "name": "stdout",
     "output_type": "stream",
     "text": [
      "              precision    recall  f1-score   support\n",
      "\n",
      "           0       0.77      0.91      0.83      6038\n",
      "           1       0.95      0.85      0.90     11072\n",
      "           2       0.20      0.34      0.25        58\n",
      "\n",
      "    accuracy                           0.87     17168\n",
      "   macro avg       0.64      0.70      0.66     17168\n",
      "weighted avg       0.88      0.87      0.87     17168\n",
      "\n"
     ]
    }
   ],
   "source": [
    "# Test the model\n",
    "best_model=gs_results.best_estimator_ # best model\n",
    "predictions=best_model.predict(X_test)\n",
    "print(classification_report(y_test,predictions))"
   ]
  },
  {
   "cell_type": "markdown",
   "id": "78e12277-b0e5-48df-b104-fa5642d2e3a6",
   "metadata": {},
   "source": [
    "As we see, the model performes slightly better than the baseline model. </br>"
   ]
  },
  {
   "cell_type": "code",
   "execution_count": 59,
   "id": "72a5b3a7-8fbe-4e54-99c6-1bfa414ee79c",
   "metadata": {},
   "outputs": [
    {
     "name": "stderr",
     "output_type": "stream",
     "text": [
      "No artists with labels found to put in legend.  Note that artists whose label start with an underscore are ignored when legend() is called with no argument.\n"
     ]
    },
    {
     "data": {
      "image/png": "[encoded data removed]",
      "text/plain": [
       "<Figure size 640x480 with 1 Axes>"
      ]
     },
     "metadata": {},
     "output_type": "display_data"
    }
   ],
   "source": [
    "# 4. element of pipline is the model \n",
    "best_model[3].feature_importances_\n",
    "feature_importance = pd.DataFrame([X_train.columns, best_model[3].feature_importances_])\n",
    "feature_importance = feature_importance.T.sort_values(by = 1, ascending=False)[:15]\n",
    "sns.barplot(x=feature_importance[1], y=feature_importance[0])\n",
    "# Add labels to the graph\n",
    "plt.xlabel('Feature Importance Score')\n",
    "plt.ylabel('Features')\n",
    "plt.title(\"Visualizing Important Features\")\n",
    "plt.legend()\n",
    "plt.show()"
   ]
  },
  {
   "cell_type": "code",
   "execution_count": 79,
   "id": "216d22eb-441b-4f82-b365-7acc26861f19",
   "metadata": {},
   "outputs": [
    {
     "data": {
      "text/html": [
       "<div>\n",
       "<style scoped>\n",
       "    .dataframe tbody tr th:only-of-type {\n",
       "        vertical-align: middle;\n",
       "    }\n",
       "\n",
       "    .dataframe tbody tr th {\n",
       "        vertical-align: top;\n",
       "    }\n",
       "\n",
       "    .dataframe thead th {\n",
       "        text-align: right;\n",
       "    }\n",
       "</style>\n",
       "<table border=\"1\" class=\"dataframe\">\n",
       "  <thead>\n",
       "    <tr style=\"text-align: right;\">\n",
       "      <th>REV_city</th>\n",
       "      <th>0.000000</th>\n",
       "      <th>0.003378</th>\n",
       "      <th>0.003379</th>\n",
       "      <th>0.004739</th>\n",
       "      <th>0.004785</th>\n",
       "      <th>0.004831</th>\n",
       "      <th>0.004854</th>\n",
       "      <th>0.007854</th>\n",
       "      <th>0.007863</th>\n",
       "      <th>0.007874</th>\n",
       "      <th>0.007876</th>\n",
       "      <th>0.007895</th>\n",
       "    </tr>\n",
       "    <tr>\n",
       "      <th>target_encoded</th>\n",
       "      <th></th>\n",
       "      <th></th>\n",
       "      <th></th>\n",
       "      <th></th>\n",
       "      <th></th>\n",
       "      <th></th>\n",
       "      <th></th>\n",
       "      <th></th>\n",
       "      <th></th>\n",
       "      <th></th>\n",
       "      <th></th>\n",
       "      <th></th>\n",
       "    </tr>\n",
       "  </thead>\n",
       "  <tbody>\n",
       "    <tr>\n",
       "      <th>0</th>\n",
       "      <td>4236</td>\n",
       "      <td>76</td>\n",
       "      <td>41</td>\n",
       "      <td>5</td>\n",
       "      <td>4</td>\n",
       "      <td>5</td>\n",
       "      <td>6</td>\n",
       "      <td>5164</td>\n",
       "      <td>5139</td>\n",
       "      <td>5161</td>\n",
       "      <td>5162</td>\n",
       "      <td>5190</td>\n",
       "    </tr>\n",
       "    <tr>\n",
       "      <th>1</th>\n",
       "      <td>44313</td>\n",
       "      <td>167</td>\n",
       "      <td>102</td>\n",
       "      <td>40</td>\n",
       "      <td>43</td>\n",
       "      <td>44</td>\n",
       "      <td>44</td>\n",
       "      <td>2077</td>\n",
       "      <td>2135</td>\n",
       "      <td>2154</td>\n",
       "      <td>2161</td>\n",
       "      <td>2078</td>\n",
       "    </tr>\n",
       "    <tr>\n",
       "      <th>2</th>\n",
       "      <td>1</td>\n",
       "      <td>0</td>\n",
       "      <td>0</td>\n",
       "      <td>0</td>\n",
       "      <td>0</td>\n",
       "      <td>0</td>\n",
       "      <td>0</td>\n",
       "      <td>58</td>\n",
       "      <td>58</td>\n",
       "      <td>58</td>\n",
       "      <td>58</td>\n",
       "      <td>57</td>\n",
       "    </tr>\n",
       "  </tbody>\n",
       "</table>\n",
       "</div>"
      ],
      "text/plain": [
       "REV_city        0.000000  0.003378  0.003379  0.004739  0.004785  0.004831  \\\n",
       "target_encoded                                                               \n",
       "0                   4236        76        41         5         4         5   \n",
       "1                  44313       167       102        40        43        44   \n",
       "2                      1         0         0         0         0         0   \n",
       "\n",
       "REV_city        0.004854  0.007854  0.007863  0.007874  0.007876  0.007895  \n",
       "target_encoded                                                              \n",
       "0                      6      5164      5139      5161      5162      5190  \n",
       "1                     44      2077      2135      2154      2161      2078  \n",
       "2                      0        58        58        58        58        57  "
      ]
     },
     "execution_count": 79,
     "metadata": {},
     "output_type": "execute_result"
    }
   ],
   "source": [
    "pd.crosstab(df['target_encoded'],df['REV_city'])"
   ]
  }
 ],
 "metadata": {
  "kernelspec": {
   "display_name": "Python 3 (ipykernel)",
   "language": "python",
   "name": "python3"
  },
  "language_info": {
   "codemirror_mode": {
    "name": "ipython",
    "version": 3
   },
   "file_extension": ".py",
   "mimetype": "text/x-python",
   "name": "python",
   "nbconvert_exporter": "python",
   "pygments_lexer": "ipython3",
   "version": "3.12.2"
  }
 },
 "nbformat": 4,
 "nbformat_minor": 5
}
